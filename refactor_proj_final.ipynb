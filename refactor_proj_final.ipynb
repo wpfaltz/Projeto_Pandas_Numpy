{
 "cells": [
  {
   "cell_type": "markdown",
   "metadata": {},
   "source": [
    "# Analisando os dados disponibilizados"
   ]
  },
  {
   "cell_type": "markdown",
   "metadata": {},
   "source": [
    "### 1) Importar bibliotecas"
   ]
  },
  {
   "cell_type": "code",
   "execution_count": null,
   "metadata": {},
   "outputs": [],
   "source": [
    "import pandas as pd\n",
    "from unidecode import unidecode"
   ]
  },
  {
   "cell_type": "markdown",
   "metadata": {},
   "source": [
    "### 2) Ler dados brutos"
   ]
  },
  {
   "cell_type": "code",
   "execution_count": null,
   "metadata": {},
   "outputs": [],
   "source": [
    "escolas = pd.read_csv(\"dados_brutos/escolas.csv\")\n",
    "\n",
    "material_didatico = pd.read_csv(\"dados_brutos/material_didatico.csv\")\n",
    "\n",
    "subprefeituras = pd.read_csv(\"dados_brutos/subprefeituras.csv\")"
   ]
  },
  {
   "cell_type": "markdown",
   "metadata": {},
   "source": [
    "### 3) Criar cópias dos DFs"
   ]
  },
  {
   "cell_type": "code",
   "execution_count": null,
   "metadata": {},
   "outputs": [],
   "source": [
    "subprefeituras_copia = subprefeituras.copy()"
   ]
  },
  {
   "cell_type": "code",
   "execution_count": null,
   "metadata": {},
   "outputs": [],
   "source": [
    "material_didatico_copia = material_didatico.copy()"
   ]
  },
  {
   "cell_type": "code",
   "execution_count": null,
   "metadata": {},
   "outputs": [],
   "source": [
    "escolas_copia = escolas.copy()"
   ]
  },
  {
   "cell_type": "markdown",
   "metadata": {},
   "source": [
    "### 4) Tratamento dos DFs"
   ]
  },
  {
   "cell_type": "markdown",
   "metadata": {},
   "source": [
    "#### 4.1) Tratamento geral"
   ]
  },
  {
   "cell_type": "markdown",
   "metadata": {},
   "source": [
    "1) aplicar lower para todas as colunas\n",
    "2) nome das colunas em snake_case\n",
    "3) strings não devem conter acentos\n",
    "4) todas as strings devem estar em maiúsculo"
   ]
  },
  {
   "cell_type": "code",
   "execution_count": null,
   "metadata": {},
   "outputs": [],
   "source": [
    "def renomear_colunas(df):\n",
    "    new_columns = {col: unidecode(col.lower().strip()) for col in df.columns}\n",
    "    df.rename(columns=new_columns, inplace=True)\n",
    "    for col in df.columns:\n",
    "        df[col] = df[col].apply(lambda x: unidecode(str(x).upper())) if df[col].dtypes == 'object' else df[col]"
   ]
  },
  {
   "cell_type": "code",
   "execution_count": null,
   "metadata": {},
   "outputs": [],
   "source": [
    "escolas_copia['endereco'] = escolas_copia['endereco'].apply(add_comma_to_address)"
   ]
  },
  {
   "cell_type": "code",
   "execution_count": null,
   "metadata": {},
   "outputs": [],
   "source": [
    "escolas_copia['endereco'] = escolas_copia['endereco'].apply(replace_s_n)"
   ]
  },
  {
   "cell_type": "code",
   "execution_count": null,
   "metadata": {},
   "outputs": [],
   "source": [
    "#  str.replace() para substituir vírgulas repetidas\n",
    "condicao = escolas_copia['endereco'].str.count(',') > 1\n",
    "escolas_copia['endereco'] = escolas_copia['endereco'].loc[condicao].str.replace(', ', ',')"
   ]
  },
  {
   "cell_type": "code",
   "execution_count": null,
   "metadata": {},
   "outputs": [],
   "source": [
    "dfs = [escolas_copia, material_didatico_copia, subprefeituras_copia]\n",
    "\n",
    "for df in dfs:\n",
    "    renomear_colunas(df)\n",
    "    display(df.head(5))"
   ]
  },
  {
   "cell_type": "markdown",
   "metadata": {},
   "source": [
    "### 4.2) Tratamento para o DF material didático\n",
    "\n",
    "#### O que deve ser feito:\n",
    "\n",
    "1. Converter tipo coluna de objeto para inteiro\n",
    "\n",
    "2. Substituir NaN e None por 0\n",
    "\n",
    "3. Substituir '' e ' ' por 0\n",
    "\n",
    "4. Substituir 'NaN' por 0\n",
    "\n",
    "5. Converter valor numérico do tipo objeto para int (Ex.: '356' para 356)\n",
    "\n",
    "Remover valores nulos\n"
   ]
  },
  {
   "cell_type": "code",
   "execution_count": null,
   "metadata": {},
   "outputs": [],
   "source": [
    "material_didatico_copia['quantidade'].fillna('0', inplace=True)"
   ]
  },
  {
   "cell_type": "markdown",
   "metadata": {},
   "source": [
    "Verifica valores diferentes de números"
   ]
  },
  {
   "cell_type": "code",
   "execution_count": null,
   "metadata": {},
   "outputs": [],
   "source": [
    "for i, row in material_didatico_copia.iterrows():\n",
    "    qnt = row['quantidade']\n",
    "    if not qnt.isdigit():\n",
    "        print(qnt)"
   ]
  },
  {
   "cell_type": "markdown",
   "metadata": {},
   "source": [
    "Converte todos os valores da coluna para int (Modo 1)"
   ]
  },
  {
   "cell_type": "code",
   "execution_count": null,
   "metadata": {},
   "outputs": [],
   "source": [
    "material_didatico_copia['quantidade'] = material_didatico_copia['quantidade'].apply(lambda x: int(x) if x.isdigit() else 0)"
   ]
  },
  {
   "cell_type": "code",
   "execution_count": null,
   "metadata": {},
   "outputs": [],
   "source": [
    "# # Modo 2\n",
    "# import re\n",
    "\n",
    "# def normaliza_quantidade(valor) -> int:\n",
    "#     if valor:\n",
    "#         normaliza_valor = re.sub(r\"[^\\d: ]\", \"\", valor.strip())\n",
    "#         if normaliza_valor:\n",
    "#             return int(normaliza_valor)\n",
    "#         else:\n",
    "#             return 0\n",
    "#     else:\n",
    "#         return 0\n",
    "    \n",
    "# material_didatico['quantidade'] = material_didatico['quantidade'].apply(lambda x: normaliza_quantidade(x))"
   ]
  },
  {
   "cell_type": "markdown",
   "metadata": {},
   "source": [
    "Filtra dataframe com quantidade de material diferente de zero"
   ]
  },
  {
   "cell_type": "code",
   "execution_count": null,
   "metadata": {},
   "outputs": [],
   "source": [
    "material_didatico_copia = material_didatico_copia[material_didatico_copia['quantidade'] != 0]"
   ]
  },
  {
   "cell_type": "markdown",
   "metadata": {},
   "source": [
    "Verifica existência de valores nulos"
   ]
  },
  {
   "cell_type": "code",
   "execution_count": null,
   "metadata": {},
   "outputs": [],
   "source": [
    "material_didatico_copia.isna().sum()"
   ]
  },
  {
   "cell_type": "markdown",
   "metadata": {},
   "source": [
    "### 4.3) Tratamento para o DF subprefeituras"
   ]
  },
  {
   "cell_type": "markdown",
   "metadata": {},
   "source": [
    "Verifica existência de valores duplicados"
   ]
  },
  {
   "cell_type": "code",
   "execution_count": null,
   "metadata": {},
   "outputs": [],
   "source": [
    "subprefeituras_copia.duplicated().sum()"
   ]
  },
  {
   "cell_type": "markdown",
   "metadata": {},
   "source": [
    "### 4.4) Tratamento para o DF escola"
   ]
  },
  {
   "cell_type": "markdown",
   "metadata": {},
   "source": [
    "Normaliza coluna lat com 5 casas decimais"
   ]
  },
  {
   "cell_type": "code",
   "execution_count": null,
   "metadata": {},
   "outputs": [],
   "source": [
    "for col in ['lat', 'lon']:\n",
    "    escolas_copia[col] = escolas_copia[col].str.replace(\",\", \".\").astype(float).round(5)"
   ]
  },
  {
   "cell_type": "markdown",
   "metadata": {},
   "source": [
    "##### Substitui abreviações de endereço"
   ]
  },
  {
   "cell_type": "code",
   "execution_count": null,
   "metadata": {},
   "outputs": [],
   "source": [
    "# verifica possíveis abreviações\n",
    "abreviacoes = set()\n",
    "\n",
    "for i, linha_escola in escolas_copia.iterrows():\n",
    "    lista_palavra_endereco = linha_escola['endereco'].split()\n",
    "    for palavra in lista_palavra_endereco:\n",
    "        if len(palavra) <= 3 and not palavra.isdigit():\n",
    "            abreviacoes.update([palavra])\n",
    "\n",
    "abreviacoes"
   ]
  },
  {
   "cell_type": "code",
   "execution_count": null,
   "metadata": {},
   "outputs": [],
   "source": [
    "# verifica possíveis abreviações para logradouros\n",
    "filtro_abreviacoes = [abreviacao for abreviacao in abreviacoes if abreviacao.startswith('R') or abreviacao.startswith('AV')]\n",
    "filtro_abreviacoes"
   ]
  },
  {
   "cell_type": "code",
   "execution_count": null,
   "metadata": {},
   "outputs": [],
   "source": [
    "escolas_copia['endereco'] = escolas_copia['endereco'].str.replace('R. ', 'RUA ', regex=True).replace('AV. ', 'AVENIDA ', regex=True).replace('AV ', 'AVENIDA ', regex=True)"
   ]
  },
  {
   "cell_type": "code",
   "execution_count": null,
   "metadata": {},
   "outputs": [],
   "source": [
    "escolas_copia"
   ]
  },
  {
   "cell_type": "markdown",
   "metadata": {},
   "source": [
    "Valida normalização de abreviações do campo endereco"
   ]
  },
  {
   "cell_type": "code",
   "execution_count": null,
   "metadata": {},
   "outputs": [],
   "source": [
    "for i, linha_escola_2 in escolas_copia.iterrows():\n",
    "    if linha_escola_2['endereco'].startswith('R. ')  or \\\n",
    "       linha_escola_2['endereco'].startswith('AV. ') or \\\n",
    "       linha_escola_2['endereco'].startswith('AV '):\n",
    "        print(linha_escola_2)"
   ]
  },
  {
   "cell_type": "markdown",
   "metadata": {},
   "source": [
    "Adiciona vírgula para o número do endereço e unifica os SN"
   ]
  },
  {
   "cell_type": "code",
   "execution_count": null,
   "metadata": {},
   "outputs": [],
   "source": [
    "# verifica possíveis abreviações\n",
    "numeros = list()\n",
    "enderecos_sem_numeros = list()\n",
    "\n",
    "numeros = [linha_escola['endereco'].split()[-1] for i, linha_escola in escolas_copia.iterrows()]\n",
    "\n",
    "for item in numeros:\n",
    "    if not item.isdigit():\n",
    "        enderecos_sem_numeros.append(item)\n",
    "\n",
    "set_enderecos_sem_numeros = set(enderecos_sem_numeros)\n",
    "print(set_enderecos_sem_numeros)"
   ]
  },
  {
   "cell_type": "code",
   "execution_count": 201,
   "metadata": {},
   "outputs": [
    {
     "name": "stdout",
     "output_type": "stream",
     "text": [
      "S/N.deg\n",
      "S/No\n",
      "S/Ndeg\n",
      "S/N\n",
      "S/N.o\n"
     ]
    }
   ],
   "source": [
    "# utiliza apenas os sem números\n",
    "for item in set_enderecos_sem_numeros:\n",
    "    if item.startswith('S'):\n",
    "        print(item)"
   ]
  },
  {
   "cell_type": "code",
   "execution_count": 202,
   "metadata": {},
   "outputs": [],
   "source": [
    "import re\n",
    "# Função para adicionar vírgula entre endereço e número\n",
    "def add_comma_to_address(address):\n",
    "    # Use expressões regulares para encontrar o número no final do endereço\n",
    "    match = re.search(r'(\\d+(\\.\\d+)?)$', address)\n",
    "    \n",
    "    if match:\n",
    "        # Se um número for encontrado, adicione uma vírgula antes dele\n",
    "        address_with_comma = re.sub(r'(\\d+(\\.\\d+)?)$', r', \\1', address)\n",
    "        return address_with_comma\n",
    "    else:\n",
    "        return address\n",
    "\n",
    "# Função para tratar as diversas maneiras de endereços sem numero para `SN``\n",
    "def replace_s_n(text):\n",
    "    # Lista de trechos a serem substituídos\n",
    "    to_replace = [\"S/N.deg\", \"S/No\", \"S/Ndeg\", \"S/N\", \"S/N.o\"]\n",
    "    # to_replace = [\"S/No\", \"S/N.o\", \"S/N\", \"S/N.deg\", \"S/Ndeg\", \"SNdeg\", \"SN.deg\"]\n",
    "    \n",
    "    # Substituir os trechos na string\n",
    "    for item in to_replace:\n",
    "        text = text.replace(item, \",SN\")\n",
    "    \n",
    "    return text"
   ]
  },
  {
   "cell_type": "code",
   "execution_count": 203,
   "metadata": {},
   "outputs": [],
   "source": [
    "def renomear_colunas(df):\n",
    "    new_columns = {col: unidecode(col.lower().strip()) for col in df.columns}\n",
    "    df.rename(columns=new_columns, inplace=True)\n",
    "    for col in df.columns:\n",
    "        df[col] = df[col].apply(lambda x: unidecode(str(x).upper())) if df[col].dtypes == 'object' else df[col]"
   ]
  }
 ],
 "metadata": {
  "kernelspec": {
   "display_name": "Python 3",
   "language": "python",
   "name": "python3"
  },
  "language_info": {
   "codemirror_mode": {
    "name": "ipython",
    "version": 3
   },
   "file_extension": ".py",
   "mimetype": "text/x-python",
   "name": "python",
   "nbconvert_exporter": "python",
   "pygments_lexer": "ipython3",
   "version": "3.11.3"
  },
  "orig_nbformat": 4
 },
 "nbformat": 4,
 "nbformat_minor": 2
}
