{
 "cells": [
  {
   "cell_type": "markdown",
   "metadata": {},
   "source": [
    "# Analisando os dados disponibilizados"
   ]
  },
  {
   "cell_type": "markdown",
   "metadata": {},
   "source": [
    "### 1) Importar bibliotecas"
   ]
  },
  {
   "cell_type": "code",
   "execution_count": 1,
   "metadata": {},
   "outputs": [],
   "source": [
    "import pandas as pd\n",
    "from unidecode import unidecode\n",
    "import matplotlib.pyplot as plt\n"
   ]
  },
  {
   "cell_type": "markdown",
   "metadata": {},
   "source": [
    "### 2) Ler dados brutos"
   ]
  },
  {
   "cell_type": "code",
   "execution_count": 2,
   "metadata": {},
   "outputs": [],
   "source": [
    "escolas = pd.read_csv(\"dados_brutos/escolas.csv\")\n",
    "\n",
    "material_didatico = pd.read_csv(\"dados_brutos/material_didatico.csv\")\n",
    "\n",
    "subprefeituras = pd.read_csv(\"dados_brutos/subprefeituras.csv\")"
   ]
  },
  {
   "cell_type": "markdown",
   "metadata": {},
   "source": [
    "### 3) Criar cópias dos DFs"
   ]
  },
  {
   "cell_type": "code",
   "execution_count": 3,
   "metadata": {},
   "outputs": [],
   "source": [
    "subprefeituras_copia = subprefeituras.copy()"
   ]
  },
  {
   "cell_type": "code",
   "execution_count": 4,
   "metadata": {},
   "outputs": [],
   "source": [
    "material_didatico_copia = material_didatico.copy()"
   ]
  },
  {
   "cell_type": "code",
   "execution_count": 5,
   "metadata": {},
   "outputs": [],
   "source": [
    "escolas_copia = escolas.copy()"
   ]
  },
  {
   "cell_type": "markdown",
   "metadata": {},
   "source": [
    "### 4) Tratamento dos DFs"
   ]
  },
  {
   "cell_type": "markdown",
   "metadata": {},
   "source": [
    "#### 4.1) Tratamento geral (explícito no arquivo .md)"
   ]
  },
  {
   "cell_type": "markdown",
   "metadata": {},
   "source": [
    "1) aplicar lower para todas as colunas\n",
    "2) nome das colunas em snake_case\n",
    "3) strings não devem conter acentos\n",
    "4) todas as strings devem estar em maiúsculo"
   ]
  },
  {
   "cell_type": "code",
   "execution_count": 6,
   "metadata": {},
   "outputs": [],
   "source": [
    "def renomear_colunas(df):\n",
    "    new_columns = {col: unidecode(col.lower().strip()) for col in df.columns}\n",
    "    df.rename(columns=new_columns, inplace=True)\n",
    "    for col in df.columns:\n",
    "        df[col] = df[col].apply(lambda x: unidecode(str(x)).upper()) if df[col].dtypes == 'object' else df[col]"
   ]
  },
  {
   "cell_type": "code",
   "execution_count": 7,
   "metadata": {},
   "outputs": [
    {
     "data": {
      "text/html": [
       "<div>\n",
       "<style scoped>\n",
       "    .dataframe tbody tr th:only-of-type {\n",
       "        vertical-align: middle;\n",
       "    }\n",
       "\n",
       "    .dataframe tbody tr th {\n",
       "        vertical-align: top;\n",
       "    }\n",
       "\n",
       "    .dataframe thead th {\n",
       "        text-align: right;\n",
       "    }\n",
       "</style>\n",
       "<table border=\"1\" class=\"dataframe\">\n",
       "  <thead>\n",
       "    <tr style=\"text-align: right;\">\n",
       "      <th></th>\n",
       "      <th>id</th>\n",
       "      <th>escolas_postos</th>\n",
       "      <th>bairro</th>\n",
       "      <th>endereco</th>\n",
       "      <th>lat</th>\n",
       "      <th>lon</th>\n",
       "    </tr>\n",
       "  </thead>\n",
       "  <tbody>\n",
       "    <tr>\n",
       "      <th>0</th>\n",
       "      <td>178</td>\n",
       "      <td>CENTRO INTEGRADO DE EDUCACAO PUBLICA HENFIL</td>\n",
       "      <td>CAJU</td>\n",
       "      <td>RUA CARLOS SEIDL S/NO</td>\n",
       "      <td>-22,880888</td>\n",
       "      <td>-43,225326</td>\n",
       "    </tr>\n",
       "    <tr>\n",
       "      <th>1</th>\n",
       "      <td>634</td>\n",
       "      <td>EM ALICE DO AMARAL PEIXOTO</td>\n",
       "      <td>BENFICA</td>\n",
       "      <td>RUA EBANO 187</td>\n",
       "      <td>-22,889574</td>\n",
       "      <td>-43,236202</td>\n",
       "    </tr>\n",
       "    <tr>\n",
       "      <th>2</th>\n",
       "      <td>483</td>\n",
       "      <td>EM CELESTINO SILVA</td>\n",
       "      <td>CENTRO</td>\n",
       "      <td>R. DO LAVRADIO, 56</td>\n",
       "      <td>-22,909293</td>\n",
       "      <td>-43,183579</td>\n",
       "    </tr>\n",
       "    <tr>\n",
       "      <th>3</th>\n",
       "      <td>476</td>\n",
       "      <td>ESCOLA MUNICIPAL FLORIANO PEIXOTO</td>\n",
       "      <td>SAO CRISTOVAO</td>\n",
       "      <td>PRACA ARGENTINA 20</td>\n",
       "      <td>-22,897629</td>\n",
       "      <td>-43,227456</td>\n",
       "    </tr>\n",
       "    <tr>\n",
       "      <th>4</th>\n",
       "      <td>132</td>\n",
       "      <td>EM PEREIRA PASSOS</td>\n",
       "      <td>RIO COMPRIDO</td>\n",
       "      <td>PRACA CONDESSA PAULO DE FRONTIN 45</td>\n",
       "      <td>-22,924412</td>\n",
       "      <td>-43,208579</td>\n",
       "    </tr>\n",
       "  </tbody>\n",
       "</table>\n",
       "</div>"
      ],
      "text/plain": [
       "    id                               escolas_postos         bairro  \\\n",
       "0  178  CENTRO INTEGRADO DE EDUCACAO PUBLICA HENFIL           CAJU   \n",
       "1  634                   EM ALICE DO AMARAL PEIXOTO        BENFICA   \n",
       "2  483                           EM CELESTINO SILVA         CENTRO   \n",
       "3  476            ESCOLA MUNICIPAL FLORIANO PEIXOTO  SAO CRISTOVAO   \n",
       "4  132                            EM PEREIRA PASSOS   RIO COMPRIDO   \n",
       "\n",
       "                             endereco         lat         lon  \n",
       "0               RUA CARLOS SEIDL S/NO  -22,880888  -43,225326  \n",
       "1                       RUA EBANO 187  -22,889574  -43,236202  \n",
       "2                  R. DO LAVRADIO, 56  -22,909293  -43,183579  \n",
       "3                  PRACA ARGENTINA 20  -22,897629  -43,227456  \n",
       "4  PRACA CONDESSA PAULO DE FRONTIN 45  -22,924412  -43,208579  "
      ]
     },
     "metadata": {},
     "output_type": "display_data"
    },
    {
     "data": {
      "text/html": [
       "<div>\n",
       "<style scoped>\n",
       "    .dataframe tbody tr th:only-of-type {\n",
       "        vertical-align: middle;\n",
       "    }\n",
       "\n",
       "    .dataframe tbody tr th {\n",
       "        vertical-align: top;\n",
       "    }\n",
       "\n",
       "    .dataframe thead th {\n",
       "        text-align: right;\n",
       "    }\n",
       "</style>\n",
       "<table border=\"1\" class=\"dataframe\">\n",
       "  <thead>\n",
       "    <tr style=\"text-align: right;\">\n",
       "      <th></th>\n",
       "      <th>id</th>\n",
       "      <th>quantidade</th>\n",
       "    </tr>\n",
       "  </thead>\n",
       "  <tbody>\n",
       "    <tr>\n",
       "      <th>0</th>\n",
       "      <td>178</td>\n",
       "      <td>20</td>\n",
       "    </tr>\n",
       "    <tr>\n",
       "      <th>1</th>\n",
       "      <td>634</td>\n",
       "      <td>121</td>\n",
       "    </tr>\n",
       "    <tr>\n",
       "      <th>2</th>\n",
       "      <td>483</td>\n",
       "      <td>220</td>\n",
       "    </tr>\n",
       "    <tr>\n",
       "      <th>3</th>\n",
       "      <td>476</td>\n",
       "      <td>190</td>\n",
       "    </tr>\n",
       "    <tr>\n",
       "      <th>4</th>\n",
       "      <td>132</td>\n",
       "      <td>67</td>\n",
       "    </tr>\n",
       "  </tbody>\n",
       "</table>\n",
       "</div>"
      ],
      "text/plain": [
       "    id quantidade\n",
       "0  178         20\n",
       "1  634        121\n",
       "2  483        220\n",
       "3  476        190\n",
       "4  132         67"
      ]
     },
     "metadata": {},
     "output_type": "display_data"
    },
    {
     "data": {
      "text/html": [
       "<div>\n",
       "<style scoped>\n",
       "    .dataframe tbody tr th:only-of-type {\n",
       "        vertical-align: middle;\n",
       "    }\n",
       "\n",
       "    .dataframe tbody tr th {\n",
       "        vertical-align: top;\n",
       "    }\n",
       "\n",
       "    .dataframe thead th {\n",
       "        text-align: right;\n",
       "    }\n",
       "</style>\n",
       "<table border=\"1\" class=\"dataframe\">\n",
       "  <thead>\n",
       "    <tr style=\"text-align: right;\">\n",
       "      <th></th>\n",
       "      <th>nome</th>\n",
       "      <th>subprefeitura</th>\n",
       "    </tr>\n",
       "  </thead>\n",
       "  <tbody>\n",
       "    <tr>\n",
       "      <th>0</th>\n",
       "      <td>SANTO CRISTO</td>\n",
       "      <td>CENTRO</td>\n",
       "    </tr>\n",
       "    <tr>\n",
       "      <th>1</th>\n",
       "      <td>GAMBOA</td>\n",
       "      <td>CENTRO</td>\n",
       "    </tr>\n",
       "    <tr>\n",
       "      <th>2</th>\n",
       "      <td>SAUDE</td>\n",
       "      <td>CENTRO</td>\n",
       "    </tr>\n",
       "    <tr>\n",
       "      <th>3</th>\n",
       "      <td>CAJU</td>\n",
       "      <td>CENTRO</td>\n",
       "    </tr>\n",
       "    <tr>\n",
       "      <th>4</th>\n",
       "      <td>CENTRO</td>\n",
       "      <td>CENTRO</td>\n",
       "    </tr>\n",
       "  </tbody>\n",
       "</table>\n",
       "</div>"
      ],
      "text/plain": [
       "           nome subprefeitura\n",
       "0  SANTO CRISTO        CENTRO\n",
       "1        GAMBOA        CENTRO\n",
       "2         SAUDE        CENTRO\n",
       "3          CAJU        CENTRO\n",
       "4        CENTRO        CENTRO"
      ]
     },
     "metadata": {},
     "output_type": "display_data"
    }
   ],
   "source": [
    "# lista dfs\n",
    "dfs = [escolas_copia, material_didatico_copia, subprefeituras_copia]\n",
    "\n",
    "# trata cada df\n",
    "for df in dfs:\n",
    "    renomear_colunas(df)\n",
    "    display(df.head(5))"
   ]
  },
  {
   "cell_type": "markdown",
   "metadata": {},
   "source": [
    "#### 4.2) Tratamento geral (não exposto no arquivo .md)"
   ]
  },
  {
   "cell_type": "markdown",
   "metadata": {},
   "source": [
    "1) Remove valores duplicados\n",
    "2) Substitui valores nulos"
   ]
  },
  {
   "cell_type": "code",
   "execution_count": 8,
   "metadata": {},
   "outputs": [],
   "source": [
    "# lista dfs\n",
    "dfs = [escolas_copia, material_didatico_copia, subprefeituras_copia]\n",
    "\n",
    "# trata cada df\n",
    "for df in dfs:\n",
    "    # remove duplicados\n",
    "    df.drop_duplicates(inplace=True)\n",
    "    if 'id' in df.columns:\n",
    "        df.drop_duplicates(subset='id', keep='first', inplace=True)\n",
    "    \n",
    "    # substitui valores nulos do campos numéricos\n",
    "    for col in df.columns:\n",
    "        if df[col].dtypes == 'int' or df[col].dtypes == 'float':\n",
    "            df[col] = df[col].fillna(0)"
   ]
  },
  {
   "cell_type": "markdown",
   "metadata": {},
   "source": [
    "### 4.3) Tratamentos específicos\n"
   ]
  },
  {
   "cell_type": "markdown",
   "metadata": {},
   "source": [
    "#### 4.3.1) DF material didático"
   ]
  },
  {
   "cell_type": "code",
   "execution_count": 9,
   "metadata": {},
   "outputs": [
    {
     "name": "stdout",
     "output_type": "stream",
     "text": [
      "<class 'pandas.core.frame.DataFrame'>\n",
      "RangeIndex: 151 entries, 0 to 150\n",
      "Data columns (total 2 columns):\n",
      " #   Column      Non-Null Count  Dtype \n",
      "---  ------      --------------  ----- \n",
      " 0   id          151 non-null    int64 \n",
      " 1   quantidade  151 non-null    object\n",
      "dtypes: int64(1), object(1)\n",
      "memory usage: 2.5+ KB\n"
     ]
    }
   ],
   "source": [
    "material_didatico_copia.info()"
   ]
  },
  {
   "cell_type": "markdown",
   "metadata": {},
   "source": [
    "#### O que deve ser feito:\n",
    "\n",
    "1. Converter tipo da coluna quantidade de objeto para inteiro\n",
    "2. Substituir qualquer valor que não seja numérico por um número na coluna quantidade"
   ]
  },
  {
   "cell_type": "markdown",
   "metadata": {},
   "source": [
    "#### Verifica valores diferentes de números"
   ]
  },
  {
   "cell_type": "code",
   "execution_count": 10,
   "metadata": {},
   "outputs": [
    {
     "name": "stdout",
     "output_type": "stream",
     "text": [
      "''\n",
      "'NAN'\n",
      "NAN\n",
      "'397'\n",
      "'NAN'\n",
      "'395'\n",
      "NAN\n",
      "NAN\n",
      "' '\n",
      "NAN\n"
     ]
    }
   ],
   "source": [
    "for i, row in material_didatico_copia.iterrows():\n",
    "    qnt = row['quantidade']\n",
    "    if not qnt.isdigit():\n",
    "        print(qnt)"
   ]
  },
  {
   "cell_type": "markdown",
   "metadata": {},
   "source": [
    "#### Converte todos os valores da coluna para int"
   ]
  },
  {
   "cell_type": "code",
   "execution_count": 11,
   "metadata": {},
   "outputs": [],
   "source": [
    "material_didatico_copia['quantidade'] = material_didatico_copia['quantidade'].apply(lambda x: int(x) if x.isdigit() else 0)"
   ]
  },
  {
   "cell_type": "markdown",
   "metadata": {},
   "source": [
    "Filtra dataframe com quantidade de material diferente de zero"
   ]
  },
  {
   "cell_type": "code",
   "execution_count": 12,
   "metadata": {},
   "outputs": [],
   "source": [
    "material_didatico_copia = material_didatico_copia[material_didatico_copia['quantidade'] != 0]"
   ]
  },
  {
   "cell_type": "markdown",
   "metadata": {},
   "source": [
    "#### Verifica existência de valores nulos, duplicados e existência de valores iguais a 0"
   ]
  },
  {
   "cell_type": "code",
   "execution_count": 13,
   "metadata": {},
   "outputs": [
    {
     "name": "stdout",
     "output_type": "stream",
     "text": [
      "Quantidade de valores nulos: 0\n",
      "Quantidade de valores duplicados: 0\n",
      "Quantidade de valores iguais a 0 (coluna quantidade): 0\n"
     ]
    }
   ],
   "source": [
    "print(\"Quantidade de valores nulos:\", material_didatico_copia.isna().sum().tolist()[0])\n",
    "print(\"Quantidade de valores duplicados:\", material_didatico_copia.duplicated().sum())\n",
    "print(\"Quantidade de valores iguais a 0 (coluna quantidade):\", len(material_didatico_copia[material_didatico_copia['quantidade'] == 0]))"
   ]
  },
  {
   "cell_type": "markdown",
   "metadata": {},
   "source": [
    "#### 4.3.2) Tratamento para o DF subprefeituras"
   ]
  },
  {
   "cell_type": "markdown",
   "metadata": {},
   "source": [
    "#### Verifica existência de valores nulos e duplicados"
   ]
  },
  {
   "cell_type": "code",
   "execution_count": 14,
   "metadata": {},
   "outputs": [
    {
     "name": "stdout",
     "output_type": "stream",
     "text": [
      "Quantidade de valores nulos: 0\n",
      "Quantidade de valores duplicados: 0\n"
     ]
    }
   ],
   "source": [
    "print(\"Quantidade de valores nulos:\", subprefeituras_copia.isna().sum().tolist()[0])\n",
    "print(\"Quantidade de valores duplicados:\", subprefeituras_copia.duplicated().sum())"
   ]
  },
  {
   "cell_type": "markdown",
   "metadata": {},
   "source": [
    "#### 4.3.4) Tratamento para o DF escola"
   ]
  },
  {
   "cell_type": "code",
   "execution_count": 15,
   "metadata": {},
   "outputs": [
    {
     "name": "stdout",
     "output_type": "stream",
     "text": [
      "<class 'pandas.core.frame.DataFrame'>\n",
      "Index: 136 entries, 0 to 150\n",
      "Data columns (total 6 columns):\n",
      " #   Column          Non-Null Count  Dtype \n",
      "---  ------          --------------  ----- \n",
      " 0   id              136 non-null    int64 \n",
      " 1   escolas_postos  136 non-null    object\n",
      " 2   bairro          136 non-null    object\n",
      " 3   endereco        136 non-null    object\n",
      " 4   lat             136 non-null    object\n",
      " 5   lon             136 non-null    object\n",
      "dtypes: int64(1), object(5)\n",
      "memory usage: 7.4+ KB\n"
     ]
    }
   ],
   "source": [
    "escolas_copia.info()"
   ]
  },
  {
   "cell_type": "markdown",
   "metadata": {},
   "source": [
    "#### O que deve ser feito:\n",
    "\n",
    "1. Converter tipo das colunas lat e lon de objeto para float\n",
    "2. Criar campos logradouro e numero a partir do campo endereco\n",
    "3. Criar campo tipo escola a partir do campo que contém nome das escolas (escolas_postos)\n",
    "4. Merge entre os DFs (escola, material didático e subprefeituras)\n",
    "5. Escrever arquivos csv"
   ]
  },
  {
   "cell_type": "markdown",
   "metadata": {},
   "source": [
    "#### Converter tipo das colunas lat e lon de objeto para float"
   ]
  },
  {
   "cell_type": "markdown",
   "metadata": {},
   "source": [
    "1) Substitui vírgula por ponto para validar coordenadas (requisito para analisar números float)"
   ]
  },
  {
   "cell_type": "code",
   "execution_count": 16,
   "metadata": {},
   "outputs": [],
   "source": [
    "# converte vŕgula em ponto nos campos lat e lon\n",
    "escolas_copia[['lat', 'lon']] = escolas_copia[['lat', 'lon']].applymap(lambda x: x.replace(\",\", \".\"))"
   ]
  },
  {
   "cell_type": "markdown",
   "metadata": {},
   "source": [
    "2) Valida coordenadas lat e lon"
   ]
  },
  {
   "cell_type": "code",
   "execution_count": 17,
   "metadata": {},
   "outputs": [],
   "source": [
    "for i, linha in escolas_copia.iterrows():\n",
    "    lat = linha['lat']\n",
    "    lon = linha['lon']\n",
    "    \n",
    "    if not -90 <= float(lat) <= 90:\n",
    "        if ',' not in str(lat):\n",
    "            lat.insert(2, ',')\n",
    "        else:\n",
    "            print(\"id:\", linha['id'])\n",
    "            print(\"lat:\", lat)\n",
    "    if not -180 <= float(lon) <= 180:\n",
    "        if ',' not in str(lon):\n",
    "            lon.insert(2, ',')\n",
    "        else:\n",
    "            print(\"id:\", linha['id'])\n",
    "            print(\"lon:\", lon)\n"
   ]
  },
  {
   "cell_type": "markdown",
   "metadata": {},
   "source": [
    "3) Normaliza coluna lat com 6 casas decimais"
   ]
  },
  {
   "cell_type": "code",
   "execution_count": 18,
   "metadata": {},
   "outputs": [],
   "source": [
    "for col in ['lat', 'lon']:\n",
    "    escolas_copia[col] = escolas_copia[col].astype(float).round(6)"
   ]
  },
  {
   "cell_type": "markdown",
   "metadata": {},
   "source": [
    "#### Substitui abreviações de endereço"
   ]
  },
  {
   "cell_type": "code",
   "execution_count": 19,
   "metadata": {},
   "outputs": [
    {
     "data": {
      "text/plain": [
       "['R.', 'ROSA', 'AV.', 'RIO', 'AV', 'PCA.', 'RUA']"
      ]
     },
     "execution_count": 19,
     "metadata": {},
     "output_type": "execute_result"
    }
   ],
   "source": [
    "# verifica possíveis abreviações\n",
    "abreviacoes = set()\n",
    "\n",
    "for i, linha_escola in escolas_copia.iterrows():\n",
    "    lista_palavra_endereco = linha_escola['endereco'].split()\n",
    "    for palavra in lista_palavra_endereco:\n",
    "        if len(palavra) <= 4 and not palavra.isdigit():\n",
    "            abreviacoes.update([palavra])\n",
    "\n",
    "# verifica possíveis abreviações para logradouros\n",
    "filtro_abreviacoes = [abreviacao for abreviacao in abreviacoes if abreviacao.startswith('R') or abreviacao.startswith('AV') or abreviacao.startswith('PCA')]\n",
    "filtro_abreviacoes"
   ]
  },
  {
   "cell_type": "code",
   "execution_count": 20,
   "metadata": {},
   "outputs": [],
   "source": [
    "escolas_copia['endereco'] = escolas_copia['endereco'].str.replace('R. ', 'RUA ').replace('PCA. ', 'PRACA ', regex=True).replace('AV. ', 'AVENIDA ', regex=True).replace('AV ', 'AVENIDA ', regex=True)"
   ]
  },
  {
   "cell_type": "markdown",
   "metadata": {},
   "source": [
    "Valida normalização de abreviações do campo endereco"
   ]
  },
  {
   "cell_type": "code",
   "execution_count": 21,
   "metadata": {},
   "outputs": [],
   "source": [
    "for i, linha_escola in escolas_copia.iterrows():\n",
    "    if linha_escola['endereco'].startswith('R. ')  or \\\n",
    "       linha_escola['endereco'].startswith('AV. ') or \\\n",
    "       linha_escola['endereco'].startswith('AV ') or \\\n",
    "       linha_escola['endereco'].startswith('PCA. '):\n",
    "        print(linha_escola['endereco'])"
   ]
  },
  {
   "cell_type": "markdown",
   "metadata": {},
   "source": [
    "#### Normaliza os endereços"
   ]
  },
  {
   "cell_type": "markdown",
   "metadata": {},
   "source": [
    "1) Normaliza endereços sem números"
   ]
  },
  {
   "cell_type": "code",
   "execution_count": 22,
   "metadata": {},
   "outputs": [],
   "source": [
    "escolas_copia['endereco'] = escolas_copia['endereco'].apply(lambda x: x.replace(\"/\", \"\").replace(\".\", \"\").strip())"
   ]
  },
  {
   "cell_type": "code",
   "execution_count": 23,
   "metadata": {},
   "outputs": [
    {
     "name": "stdout",
     "output_type": "stream",
     "text": [
      "{'SNDEG', 'SNO'}\n"
     ]
    }
   ],
   "source": [
    "# checa os valores de endereços sem números\n",
    "enderecos_sem_numeros = set()\n",
    "\n",
    "# separa enderecos em lista de listas\n",
    "enderecos = [linha_escola['endereco'].split() for i, linha_escola in escolas_copia.iterrows()]\n",
    "\n",
    "# verifica itens da lista que possuem valores SN (sem números)\n",
    "for lista in enderecos:\n",
    "    for item in lista:\n",
    "        if item.startswith(\"SN\") and item != \"SN\":\n",
    "            enderecos_sem_numeros.update([item])\n",
    "\n",
    "print(enderecos_sem_numeros)"
   ]
  },
  {
   "cell_type": "code",
   "execution_count": 24,
   "metadata": {},
   "outputs": [],
   "source": [
    "escolas_copia['endereco'] = escolas_copia['endereco'].str.replace('SNO', 'SN', regex=True).replace('SNDEG', 'SN', regex=True)"
   ]
  },
  {
   "cell_type": "markdown",
   "metadata": {},
   "source": [
    "2) Normaliza campos com endereços incorretos"
   ]
  },
  {
   "cell_type": "code",
   "execution_count": 25,
   "metadata": {},
   "outputs": [
    {
     "data": {
      "text/html": [
       "<div>\n",
       "<style scoped>\n",
       "    .dataframe tbody tr th:only-of-type {\n",
       "        vertical-align: middle;\n",
       "    }\n",
       "\n",
       "    .dataframe tbody tr th {\n",
       "        vertical-align: top;\n",
       "    }\n",
       "\n",
       "    .dataframe thead th {\n",
       "        text-align: right;\n",
       "    }\n",
       "</style>\n",
       "<table border=\"1\" class=\"dataframe\">\n",
       "  <thead>\n",
       "    <tr style=\"text-align: right;\">\n",
       "      <th></th>\n",
       "      <th>id</th>\n",
       "      <th>endereco</th>\n",
       "    </tr>\n",
       "  </thead>\n",
       "  <tbody>\n",
       "    <tr>\n",
       "      <th>126</th>\n",
       "      <td>144</td>\n",
       "      <td>RUA RIO DA PRATA, RUA LUISA MARILAC, 20</td>\n",
       "    </tr>\n",
       "  </tbody>\n",
       "</table>\n",
       "</div>"
      ],
      "text/plain": [
       "      id                                 endereco\n",
       "126  144  RUA RIO DA PRATA, RUA LUISA MARILAC, 20"
      ]
     },
     "execution_count": 25,
     "metadata": {},
     "output_type": "execute_result"
    }
   ],
   "source": [
    "escolas_copia[['id', 'endereco']].loc[escolas_copia['endereco'].str.count('RUA') > 1]"
   ]
  },
  {
   "cell_type": "code",
   "execution_count": 26,
   "metadata": {},
   "outputs": [
    {
     "data": {
      "text/html": [
       "<div>\n",
       "<style scoped>\n",
       "    .dataframe tbody tr th:only-of-type {\n",
       "        vertical-align: middle;\n",
       "    }\n",
       "\n",
       "    .dataframe tbody tr th {\n",
       "        vertical-align: top;\n",
       "    }\n",
       "\n",
       "    .dataframe thead th {\n",
       "        text-align: right;\n",
       "    }\n",
       "</style>\n",
       "<table border=\"1\" class=\"dataframe\">\n",
       "  <thead>\n",
       "    <tr style=\"text-align: right;\">\n",
       "      <th></th>\n",
       "      <th>id</th>\n",
       "      <th>endereco</th>\n",
       "    </tr>\n",
       "  </thead>\n",
       "  <tbody>\n",
       "  </tbody>\n",
       "</table>\n",
       "</div>"
      ],
      "text/plain": [
       "Empty DataFrame\n",
       "Columns: [id, endereco]\n",
       "Index: []"
      ]
     },
     "execution_count": 26,
     "metadata": {},
     "output_type": "execute_result"
    }
   ],
   "source": [
    "escolas_copia[['id', 'endereco']].loc[escolas_copia['endereco'].str.count('AVENIDA') > 1]\n"
   ]
  },
  {
   "cell_type": "code",
   "execution_count": 27,
   "metadata": {},
   "outputs": [
    {
     "data": {
      "text/html": [
       "<div>\n",
       "<style scoped>\n",
       "    .dataframe tbody tr th:only-of-type {\n",
       "        vertical-align: middle;\n",
       "    }\n",
       "\n",
       "    .dataframe tbody tr th {\n",
       "        vertical-align: top;\n",
       "    }\n",
       "\n",
       "    .dataframe thead th {\n",
       "        text-align: right;\n",
       "    }\n",
       "</style>\n",
       "<table border=\"1\" class=\"dataframe\">\n",
       "  <thead>\n",
       "    <tr style=\"text-align: right;\">\n",
       "      <th></th>\n",
       "      <th>id</th>\n",
       "      <th>endereco</th>\n",
       "    </tr>\n",
       "  </thead>\n",
       "  <tbody>\n",
       "    <tr>\n",
       "      <th>68</th>\n",
       "      <td>260</td>\n",
       "      <td>AVENIDA BRASIL 4040 RUA DA VITORIA</td>\n",
       "    </tr>\n",
       "  </tbody>\n",
       "</table>\n",
       "</div>"
      ],
      "text/plain": [
       "     id                            endereco\n",
       "68  260  AVENIDA BRASIL 4040 RUA DA VITORIA"
      ]
     },
     "execution_count": 27,
     "metadata": {},
     "output_type": "execute_result"
    }
   ],
   "source": [
    "escolas_copia[['id', 'endereco']].loc[escolas_copia['endereco'].str.contains('AVENIDA') & escolas_copia['endereco'].str.contains('RUA')]"
   ]
  },
  {
   "cell_type": "code",
   "execution_count": 28,
   "metadata": {},
   "outputs": [
    {
     "name": "stderr",
     "output_type": "stream",
     "text": [
      "/tmp/ipykernel_142771/70413716.py:1: SettingWithCopyWarning: \n",
      "A value is trying to be set on a copy of a slice from a DataFrame\n",
      "\n",
      "See the caveats in the documentation: https://pandas.pydata.org/pandas-docs/stable/user_guide/indexing.html#returning-a-view-versus-a-copy\n",
      "  escolas_copia['endereco'][escolas_copia['id'] == 144] = 'RUA LUISA MARILAC, 20'\n"
     ]
    }
   ],
   "source": [
    "escolas_copia['endereco'][escolas_copia['id'] == 144] = 'RUA LUISA MARILAC, 20'"
   ]
  },
  {
   "cell_type": "code",
   "execution_count": 29,
   "metadata": {},
   "outputs": [
    {
     "name": "stderr",
     "output_type": "stream",
     "text": [
      "/tmp/ipykernel_142771/1153933497.py:1: SettingWithCopyWarning: \n",
      "A value is trying to be set on a copy of a slice from a DataFrame\n",
      "\n",
      "See the caveats in the documentation: https://pandas.pydata.org/pandas-docs/stable/user_guide/indexing.html#returning-a-view-versus-a-copy\n",
      "  escolas_copia['endereco'][escolas_copia['id'] == 260] = 'RUA DA VITORIA'\n"
     ]
    }
   ],
   "source": [
    "escolas_copia['endereco'][escolas_copia['id'] == 260] = 'RUA DA VITORIA'"
   ]
  },
  {
   "cell_type": "markdown",
   "metadata": {},
   "source": [
    "#### Separa logradouro do número do endereço"
   ]
  },
  {
   "cell_type": "markdown",
   "metadata": {},
   "source": [
    "1) Normaliza separador do logradouro e número como vírgula"
   ]
  },
  {
   "cell_type": "code",
   "execution_count": 30,
   "metadata": {},
   "outputs": [],
   "source": [
    "# Função para normalizar o endereço\n",
    "def normaliza_endereco(endereco):\n",
    "    # Verifica se o endereço contém um número\n",
    "    if any(caracter.isdigit() and ' SN' not in endereco for caracter in endereco):\n",
    "        \n",
    "        # verifica indice da string que possui o número\n",
    "        for caracter in endereco:\n",
    "            if caracter.isdigit():\n",
    "                indice = endereco.index(caracter)\n",
    "                \n",
    "                # verifica se tem vírgula\n",
    "                if ',' not in endereco:\n",
    "                    endereco = endereco[:indice-1] + ', ' + endereco[indice:]\n",
    "    \n",
    "    # verifica se contém SN\n",
    "    elif ' SN' in endereco and not ',' in endereco:\n",
    "        indice = endereco.index(' SN')\n",
    "        endereco = endereco[:indice] + ', ' + endereco[indice+1:]\n",
    "    \n",
    "    return endereco\n"
   ]
  },
  {
   "cell_type": "code",
   "execution_count": 31,
   "metadata": {},
   "outputs": [],
   "source": [
    "# Aplica a função ao DataFrame\n",
    "escolas_copia['endereco'] = escolas_copia['endereco'].apply(normaliza_endereco)"
   ]
  },
  {
   "cell_type": "markdown",
   "metadata": {},
   "source": [
    "2) Cria campos logradouro e numero no DF"
   ]
  },
  {
   "cell_type": "code",
   "execution_count": 32,
   "metadata": {},
   "outputs": [],
   "source": [
    "escolas_copia[['logradouro', 'numero']] = escolas_copia['endereco'].str.split(',', expand=True)"
   ]
  },
  {
   "cell_type": "markdown",
   "metadata": {},
   "source": [
    "3) Substitui números não informados no campo endereco"
   ]
  },
  {
   "cell_type": "code",
   "execution_count": 33,
   "metadata": {},
   "outputs": [],
   "source": [
    "escolas_copia['numero'].fillna('Não informado', inplace=True)"
   ]
  },
  {
   "cell_type": "markdown",
   "metadata": {},
   "source": [
    "### Adicionar campo tipo de cada escola"
   ]
  },
  {
   "cell_type": "markdown",
   "metadata": {},
   "source": [
    "1) Lista tipos possíveis de escola"
   ]
  },
  {
   "cell_type": "code",
   "execution_count": 34,
   "metadata": {},
   "outputs": [
    {
     "data": {
      "text/plain": [
       "{'CENTRO', 'CIEP', 'COLEGIO', 'E.M', 'E.M.', 'EM', 'EM.', 'ESCOLA'}"
      ]
     },
     "execution_count": 34,
     "metadata": {},
     "output_type": "execute_result"
    }
   ],
   "source": [
    "# listar tipos das escolas\n",
    "inicio = list()\n",
    "escolas_copia['escolas_postos'].apply(lambda x: inicio.append((x.split())[0]))\n",
    "set(inicio)"
   ]
  },
  {
   "cell_type": "markdown",
   "metadata": {},
   "source": [
    "2) Cria campo tipo no DF"
   ]
  },
  {
   "cell_type": "code",
   "execution_count": 35,
   "metadata": {},
   "outputs": [],
   "source": [
    "def mapear_tipo_escola(nome_da_escola: str):\n",
    "    if nome_da_escola.startswith((\"CIEP\", \"CENTRO\")):\n",
    "        return \"CIEP\"\n",
    "    elif nome_da_escola.startswith(\"COLEGIO\"):\n",
    "        return \"COLEGIO\"\n",
    "    elif nome_da_escola.replace(\".\", \"\").startswith((\"ESCOLA\", \"EM\")):\n",
    "        return \"EM\"\n",
    "    else:\n",
    "        return None # Caso padrão, ou seja, nenhum valor encontrado\n",
    "\n",
    "escolas_copia['tipo_escola'] = escolas_copia['escolas_postos'].apply(mapear_tipo_escola)"
   ]
  },
  {
   "cell_type": "markdown",
   "metadata": {},
   "source": [
    "### 5) Cria DF com dados completos de cada escola"
   ]
  },
  {
   "cell_type": "code",
   "execution_count": 36,
   "metadata": {},
   "outputs": [],
   "source": [
    "# aplica merge entre as tabelas\n",
    "escolas_merge_1 = escolas_copia.merge(material_didatico_copia, how='inner', on='id')"
   ]
  },
  {
   "cell_type": "code",
   "execution_count": 37,
   "metadata": {},
   "outputs": [],
   "source": [
    "escolas_merge_2 = escolas_merge_1.merge(subprefeituras_copia, how='inner', left_on='bairro', right_on='nome')"
   ]
  },
  {
   "cell_type": "markdown",
   "metadata": {},
   "source": [
    "#### Normaliza coluna id (ex.: '024')"
   ]
  },
  {
   "cell_type": "code",
   "execution_count": 38,
   "metadata": {},
   "outputs": [],
   "source": [
    "escolas_merge_2['id'] = escolas_merge_2['id'].apply(lambda x: str(x).zfill(3))"
   ]
  },
  {
   "cell_type": "markdown",
   "metadata": {},
   "source": [
    "#### Ordena as colunas do DF"
   ]
  },
  {
   "cell_type": "code",
   "execution_count": 39,
   "metadata": {},
   "outputs": [],
   "source": [
    "# cria df final\n",
    "colunas=['id_da_escola', 'nome_da_escola', 'tipo_da_escola', 'logradouro', 'numero', 'bairro', 'subprefeitura', 'latitude', 'longitude', 'quantidade_de_material']\n",
    "df_final=pd.DataFrame(columns=colunas)"
   ]
  },
  {
   "cell_type": "code",
   "execution_count": 40,
   "metadata": {},
   "outputs": [],
   "source": [
    "# atribui valores às colunas do df final\n",
    "df_final['id_da_escola']=escolas_merge_2['id']\n",
    "df_final['nome_da_escola']=escolas_merge_2['escolas_postos']\n",
    "df_final['tipo_da_escola']=escolas_merge_2['tipo_escola']\n",
    "df_final['logradouro']=escolas_merge_2['logradouro']\n",
    "df_final['numero']=escolas_merge_2['numero']\n",
    "df_final['bairro']=escolas_merge_2['bairro']\n",
    "df_final['subprefeitura']=escolas_merge_2['subprefeitura']\n",
    "df_final['quantidade_de_material']=escolas_merge_2['quantidade']\n",
    "df_final['latitude']=escolas_merge_2['lat']\n",
    "df_final['longitude']=escolas_merge_2['lon']"
   ]
  },
  {
   "cell_type": "markdown",
   "metadata": {},
   "source": [
    "### 6) Otimização do problema das entregas"
   ]
  },
  {
   "cell_type": "markdown",
   "metadata": {},
   "source": [
    "#### 6.1) Definindo um algoritmo que calcula a melhor rota"
   ]
  },
  {
   "cell_type": "code",
   "execution_count": 41,
   "metadata": {},
   "outputs": [],
   "source": [
    "from geopy.distance import distance\n",
    "\n",
    "coordenadas = df_final[['latitude', 'longitude']].values\n",
    "qtd_escolas = len(df_final)\n",
    "matriz_distancias = []\n",
    "\n",
    "# Criando uma matriz de distâncias com as distâncias entre todas as escolas (em km)\n",
    "for i in range(qtd_escolas):\n",
    "    linha = []\n",
    "    for j in range(qtd_escolas):\n",
    "        linha.append(distance(coordenadas[i], coordenadas[j]).km)\n",
    "    matriz_distancias.append(linha)\n",
    "\n",
    "def distancia_total_minima_a_partir_de_uma_escola(n, matriz_de_distancias):\n",
    "    nao_visitadas = set(range(qtd_escolas))\n",
    "    distancia_total_percorrida = 0\n",
    "    escola_atual = n\n",
    "    caminho = [escola_atual]\n",
    "    nao_visitadas.remove(escola_atual)\n",
    "    while nao_visitadas:\n",
    "        escola_mais_proxima = min(nao_visitadas, key=lambda x: matriz_de_distancias[escola_atual][x])\n",
    "        distancia_total_percorrida += matriz_de_distancias[escola_atual][escola_mais_proxima]\n",
    "        caminho.append(escola_mais_proxima)\n",
    "        escola_atual = escola_mais_proxima\n",
    "        nao_visitadas.remove(escola_atual)\n",
    "    return distancia_total_percorrida, caminho\n",
    "\n",
    "\n",
    "# Função para encontrar o caminho usando o algoritmo do vizinho mais próximo\n",
    "def rota_otima(matriz_de_distancias):\n",
    "    lista_distancias_totais_percorridas = []\n",
    "    for i in range(qtd_escolas):\n",
    "        distancia_total_percorrida = distancia_total_minima_a_partir_de_uma_escola(i, matriz_de_distancias)[0]\n",
    "        lista_distancias_totais_percorridas.append(distancia_total_percorrida)\n",
    "    \n",
    "    \n",
    "    indice_melhor_escola_inicial = lista_distancias_totais_percorridas.index(min(lista_distancias_totais_percorridas))\n",
    "    distancia_min_total_percorrida, caminho_minimo = distancia_total_minima_a_partir_de_uma_escola(indice_melhor_escola_inicial, matriz_distancias)\n",
    "    return caminho_minimo"
   ]
  },
  {
   "cell_type": "code",
   "execution_count": 42,
   "metadata": {},
   "outputs": [],
   "source": [
    "# Encontre o caminho usando o algoritmo do vizinho mais próximo\n",
    "caminho_otimo = rota_otima(matriz_distancias)"
   ]
  },
  {
   "cell_type": "markdown",
   "metadata": {},
   "source": [
    "#### 6.2) Ordenando as linhas utilizando o algoritmo definido acima"
   ]
  },
  {
   "cell_type": "code",
   "execution_count": 43,
   "metadata": {},
   "outputs": [],
   "source": [
    "# Reordene o DataFrame com base no caminho ótimo\n",
    "df_final = df_final.iloc[caminho_otimo]\n",
    "\n",
    "# Redefina os índices se necessário\n",
    "df_final.reset_index(drop=True, inplace=True)\n",
    "\n",
    "# df_final agora está reordenado com base em uma solução aproximada"
   ]
  },
  {
   "cell_type": "markdown",
   "metadata": {},
   "source": [
    "### 7) Salvando os DFs finais"
   ]
  },
  {
   "cell_type": "markdown",
   "metadata": {},
   "source": [
    "#### 7.1) Dados completos escolas"
   ]
  },
  {
   "cell_type": "code",
   "execution_count": 44,
   "metadata": {},
   "outputs": [],
   "source": [
    "# escreve dataframe\n",
    "df_final.to_csv(\"dados_tratados/dados_completos_escolas.csv\", index=False)"
   ]
  },
  {
   "cell_type": "markdown",
   "metadata": {},
   "source": [
    "### 7.2.1) Contabiliza quantidade de material escolar a ser entregue por subprefeitura"
   ]
  },
  {
   "cell_type": "code",
   "execution_count": 45,
   "metadata": {},
   "outputs": [],
   "source": [
    "qnt_material_subpref = df_final[['subprefeitura', 'quantidade_de_material']].groupby(['subprefeitura']).sum().reset_index()"
   ]
  },
  {
   "cell_type": "markdown",
   "metadata": {},
   "source": [
    "### 7.2.2) Quantidade de material por subprefeitura"
   ]
  },
  {
   "cell_type": "code",
   "execution_count": 46,
   "metadata": {},
   "outputs": [],
   "source": [
    "qnt_material_subpref.to_csv(\"dados_tratados/qnt_material_subprefeitura.csv\", index=False)"
   ]
  },
  {
   "cell_type": "markdown",
   "metadata": {},
   "source": [
    "### 8) Plotando o gráfico"
   ]
  },
  {
   "cell_type": "code",
   "execution_count": 55,
   "metadata": {},
   "outputs": [
    {
     "data": {
      "image/png": "[encoded data removed]",
      "text/plain": [
       "<Figure size 1000x600 with 1 Axes>"
      ]
     },
     "metadata": {},
     "output_type": "display_data"
    }
   ],
   "source": [
    "# Extrair as coordenadas de latitude e longitude\n",
    "latitude = df_final['latitude']\n",
    "longitude = df_final['longitude']\n",
    "\n",
    "# Criar um gráfico de dispersão\n",
    "plt.figure(figsize=(10, 6), facecolor='white')\n",
    "plt.scatter(longitude, latitude, label='Escolas', color='blue')\n",
    "\n",
    "# Adicionar uma linha vermelha que conecta os pontos na ordem do DataFrame\n",
    "for i in range(len(latitude) - 1):\n",
    "    plt.plot([longitude[i], longitude[i + 1]], [latitude[i], latitude[i + 1]], color='red')\n",
    "\n",
    "\n",
    "\n",
    "# Configurações do gráfico\n",
    "plt.xlabel('Longitude')\n",
    "plt.ylabel('Latitude')\n",
    "plt.title('Rota das Escolas')\n",
    "plt.legend()\n",
    "\n",
    "# Salvar o gráfico como um arquivo PNG\n",
    "plt.grid(True)\n",
    "plt.savefig('rota_escolas.png', bbox_inches='tight', pad_inches=0.1)  # Ajuste de margem\n",
    "\n",
    "# Exibir o gráfico\n",
    "plt.show()\n"
   ]
  },
  {
   "cell_type": "code",
   "execution_count": 53,
   "metadata": {},
   "outputs": [
    {
     "data": {
      "image/png": "[encoded data removed]",
      "text/plain": [
       "<Figure size 1000x600 with 1 Axes>"
      ]
     },
     "metadata": {},
     "output_type": "display_data"
    }
   ],
   "source": [
    "plt.figure(figsize=(10, 6))\n",
    "plt.plot(df_final['longitude'], df_final['latitude'], marker='o', label='Escolas', linestyle='-')\n",
    "plt.plot(df_final['longitude'][0], df_final['latitude'][0], marker='o', markersize=8, label='Ponto de Partida', linestyle='None', color='green')\n",
    "plt.plot(df_final['longitude'][119], df_final['latitude'][119], marker='o', markersize=8, label='Ponto final', linestyle='None', color='red')\n",
    "plt.title('Rota de Entrega das Escolas')\n",
    "plt.xlabel('Longitude')\n",
    "plt.ylabel('Latitude')\n",
    "plt.legend()\n",
    "plt.grid(True)\n",
    "plt.show()"
   ]
  }
 ],
 "metadata": {
  "kernelspec": {
   "display_name": "Python 3",
   "language": "python",
   "name": "python3"
  },
  "language_info": {
   "codemirror_mode": {
    "name": "ipython",
    "version": 3
   },
   "file_extension": ".py",
   "mimetype": "text/x-python",
   "name": "python",
   "nbconvert_exporter": "python",
   "pygments_lexer": "ipython3",
   "version": "3.8.10"
  },
  "orig_nbformat": 4
 },
 "nbformat": 4,
 "nbformat_minor": 2
}
