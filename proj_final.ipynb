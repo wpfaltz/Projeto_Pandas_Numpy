{
 "cells": [
  {
   "attachments": {},
   "cell_type": "markdown",
   "metadata": {},
   "source": [
    "## Analisando os dados disponibilizados"
   ]
  },
  {
   "attachments": {},
   "cell_type": "markdown",
   "metadata": {},
   "source": [
    "#### Importando bibliotecas"
   ]
  },
  {
   "cell_type": "code",
   "execution_count": 193,
   "metadata": {},
   "outputs": [],
   "source": [
    "# importando módulos\n",
    "import pandas as pd\n",
    "from unidecode import unidecode"
   ]
  },
  {
   "attachments": {},
   "cell_type": "markdown",
   "metadata": {},
   "source": [
    "#### Criando os DF com os dados csv"
   ]
  },
  {
   "cell_type": "code",
   "execution_count": 194,
   "metadata": {},
   "outputs": [],
   "source": [
    "# lê arquivos\n",
    "escolas = pd.read_csv(\"escolas.csv\")\n",
    "material_didatico = pd.read_csv(\"material_didatico.csv\")\n",
    "subprefeituras = pd.read_csv(\"subprefeituras.csv\")"
   ]
  },
  {
   "cell_type": "code",
   "execution_count": 195,
   "metadata": {},
   "outputs": [
    {
     "name": "stdout",
     "output_type": "stream",
     "text": [
      "**************************************************\n",
      "    DF ESCOLAS\n",
      "--------------------------------------------------\n",
      "<class 'pandas.core.frame.DataFrame'>\n",
      "RangeIndex: 152 entries, 0 to 151\n",
      "Data columns (total 6 columns):\n",
      " #   Column          Non-Null Count  Dtype \n",
      "---  ------          --------------  ----- \n",
      " 0   id              152 non-null    int64 \n",
      " 1   Escolas_Postos  152 non-null    object\n",
      " 2   BAIRRO          152 non-null    object\n",
      " 3   ENDEREÇO        152 non-null    object\n",
      " 4   lat             152 non-null    object\n",
      " 5   lon             152 non-null    object\n",
      "dtypes: int64(1), object(5)\n",
      "memory usage: 7.2+ KB\n",
      "None\n",
      "--------------------------------------------------\n",
      "\n",
      "\n"
     ]
    },
    {
     "data": {
      "text/html": [
       "<div>\n",
       "<style scoped>\n",
       "    .dataframe tbody tr th:only-of-type {\n",
       "        vertical-align: middle;\n",
       "    }\n",
       "\n",
       "    .dataframe tbody tr th {\n",
       "        vertical-align: top;\n",
       "    }\n",
       "\n",
       "    .dataframe thead th {\n",
       "        text-align: right;\n",
       "    }\n",
       "</style>\n",
       "<table border=\"1\" class=\"dataframe\">\n",
       "  <thead>\n",
       "    <tr style=\"text-align: right;\">\n",
       "      <th></th>\n",
       "      <th>id</th>\n",
       "      <th>Escolas_Postos</th>\n",
       "      <th>BAIRRO</th>\n",
       "      <th>ENDEREÇO</th>\n",
       "      <th>lat</th>\n",
       "      <th>lon</th>\n",
       "    </tr>\n",
       "  </thead>\n",
       "  <tbody>\n",
       "    <tr>\n",
       "      <th>0</th>\n",
       "      <td>178</td>\n",
       "      <td>CENTRO INTEGRADO DE EDUCAÇÃO PÚBLICA HENFIL</td>\n",
       "      <td>CAJU</td>\n",
       "      <td>Rua Carlos Seidl S/Nº</td>\n",
       "      <td>-22,880888</td>\n",
       "      <td>-43,225326</td>\n",
       "    </tr>\n",
       "    <tr>\n",
       "      <th>1</th>\n",
       "      <td>634</td>\n",
       "      <td>EM ALICE DO AMARAL PEIXOTO</td>\n",
       "      <td>BENFICA</td>\n",
       "      <td>Rua Ébano 187</td>\n",
       "      <td>-22,889574</td>\n",
       "      <td>-43,236202</td>\n",
       "    </tr>\n",
       "    <tr>\n",
       "      <th>2</th>\n",
       "      <td>483</td>\n",
       "      <td>EM CELESTINO SILVA</td>\n",
       "      <td>CENTRO</td>\n",
       "      <td>R. do Lavradio, 56</td>\n",
       "      <td>-22,909293</td>\n",
       "      <td>-43,183579</td>\n",
       "    </tr>\n",
       "    <tr>\n",
       "      <th>3</th>\n",
       "      <td>476</td>\n",
       "      <td>ESCOLA MUNICIPAL FLORIANO PEIXOTO</td>\n",
       "      <td>SÃO CRISTÓVÃO</td>\n",
       "      <td>Praça Argentina 20</td>\n",
       "      <td>-22,897629</td>\n",
       "      <td>-43,227456</td>\n",
       "    </tr>\n",
       "    <tr>\n",
       "      <th>4</th>\n",
       "      <td>132</td>\n",
       "      <td>EM PEREIRA PASSOS</td>\n",
       "      <td>RIO COMPRIDO</td>\n",
       "      <td>Praça Condessa Paulo de Frontin 45</td>\n",
       "      <td>-22,924412</td>\n",
       "      <td>-43,208579</td>\n",
       "    </tr>\n",
       "  </tbody>\n",
       "</table>\n",
       "</div>"
      ],
      "text/plain": [
       "    id                               Escolas_Postos         BAIRRO  \\\n",
       "0  178  CENTRO INTEGRADO DE EDUCAÇÃO PÚBLICA HENFIL           CAJU   \n",
       "1  634                   EM ALICE DO AMARAL PEIXOTO        BENFICA   \n",
       "2  483                           EM CELESTINO SILVA         CENTRO   \n",
       "3  476            ESCOLA MUNICIPAL FLORIANO PEIXOTO  SÃO CRISTÓVÃO   \n",
       "4  132                            EM PEREIRA PASSOS   RIO COMPRIDO   \n",
       "\n",
       "                            ENDEREÇO          lat         lon  \n",
       "0               Rua Carlos Seidl S/Nº  -22,880888  -43,225326  \n",
       "1                       Rua Ébano 187  -22,889574  -43,236202  \n",
       "2                  R. do Lavradio, 56  -22,909293  -43,183579  \n",
       "3                  Praça Argentina 20  -22,897629  -43,227456  \n",
       "4  Praça Condessa Paulo de Frontin 45  -22,924412  -43,208579  "
      ]
     },
     "metadata": {},
     "output_type": "display_data"
    },
    {
     "data": {
      "text/html": [
       "<div>\n",
       "<style scoped>\n",
       "    .dataframe tbody tr th:only-of-type {\n",
       "        vertical-align: middle;\n",
       "    }\n",
       "\n",
       "    .dataframe tbody tr th {\n",
       "        vertical-align: top;\n",
       "    }\n",
       "\n",
       "    .dataframe thead th {\n",
       "        text-align: right;\n",
       "    }\n",
       "</style>\n",
       "<table border=\"1\" class=\"dataframe\">\n",
       "  <thead>\n",
       "    <tr style=\"text-align: right;\">\n",
       "      <th></th>\n",
       "      <th>id</th>\n",
       "      <th>Escolas_Postos</th>\n",
       "      <th>BAIRRO</th>\n",
       "      <th>ENDEREÇO</th>\n",
       "      <th>lat</th>\n",
       "      <th>lon</th>\n",
       "    </tr>\n",
       "  </thead>\n",
       "  <tbody>\n",
       "    <tr>\n",
       "      <th>147</th>\n",
       "      <td>474</td>\n",
       "      <td>EM ENGENHEIRO GASTÃO RANGEL</td>\n",
       "      <td>GUARATIBA</td>\n",
       "      <td>Estrada Do Magarça 9.183</td>\n",
       "      <td>-22,98046</td>\n",
       "      <td>-43,643545</td>\n",
       "    </tr>\n",
       "    <tr>\n",
       "      <th>148</th>\n",
       "      <td>301</td>\n",
       "      <td>EM JONATAS SERRANO</td>\n",
       "      <td>GUARATIBA</td>\n",
       "      <td>Estrada Do Mato Alto, S/Nº</td>\n",
       "      <td>-22,953163</td>\n",
       "      <td>-43,577409</td>\n",
       "    </tr>\n",
       "    <tr>\n",
       "      <th>149</th>\n",
       "      <td>215</td>\n",
       "      <td>E.M. NARCISA AMALIA</td>\n",
       "      <td>ILHA DE GUARATIBA</td>\n",
       "      <td>Estrada Teodoreto de Camargo S/N.º</td>\n",
       "      <td>-23,009084</td>\n",
       "      <td>-43,537582</td>\n",
       "    </tr>\n",
       "    <tr>\n",
       "      <th>150</th>\n",
       "      <td>606</td>\n",
       "      <td>EM PROFESSOR CASTILHO</td>\n",
       "      <td>ILHA DE GUARATIBA</td>\n",
       "      <td>Caminho da Matriz 4406</td>\n",
       "      <td>-22,994124</td>\n",
       "      <td>-43,593683</td>\n",
       "    </tr>\n",
       "    <tr>\n",
       "      <th>151</th>\n",
       "      <td>69</td>\n",
       "      <td>ESCOLA MUNICIPAL CARDEAL ARCOVERDE</td>\n",
       "      <td>MADUREIRA</td>\n",
       "      <td>Rua Agostinho Barbalho 401</td>\n",
       "      <td>-22,876082</td>\n",
       "      <td>-43,343369</td>\n",
       "    </tr>\n",
       "  </tbody>\n",
       "</table>\n",
       "</div>"
      ],
      "text/plain": [
       "      id                      Escolas_Postos             BAIRRO  \\\n",
       "147  474         EM ENGENHEIRO GASTÃO RANGEL          GUARATIBA   \n",
       "148  301                  EM JONATAS SERRANO          GUARATIBA   \n",
       "149  215                 E.M. NARCISA AMALIA  ILHA DE GUARATIBA   \n",
       "150  606               EM PROFESSOR CASTILHO  ILHA DE GUARATIBA   \n",
       "151   69  ESCOLA MUNICIPAL CARDEAL ARCOVERDE          MADUREIRA   \n",
       "\n",
       "                              ENDEREÇO          lat         lon  \n",
       "147            Estrada Do Magarça 9.183   -22,98046  -43,643545  \n",
       "148          Estrada Do Mato Alto, S/Nº  -22,953163  -43,577409  \n",
       "149  Estrada Teodoreto de Camargo S/N.º  -23,009084  -43,537582  \n",
       "150              Caminho da Matriz 4406  -22,994124  -43,593683  \n",
       "151          Rua Agostinho Barbalho 401  -22,876082  -43,343369  "
      ]
     },
     "metadata": {},
     "output_type": "display_data"
    },
    {
     "name": "stdout",
     "output_type": "stream",
     "text": [
      "**************************************************\n"
     ]
    }
   ],
   "source": [
    "print(50*\"*\")\n",
    "print(\"    DF ESCOLAS\")\n",
    "print(50*\"-\")\n",
    "print(escolas.info())\n",
    "print(50*\"-\")\n",
    "print(\"\\n\")\n",
    "display(escolas.head(5))\n",
    "display(escolas.tail(5))\n",
    "print(50*\"*\")"
   ]
  },
  {
   "cell_type": "code",
   "execution_count": 196,
   "metadata": {},
   "outputs": [
    {
     "name": "stdout",
     "output_type": "stream",
     "text": [
      "**************************************************\n",
      "    DF material_didatico\n",
      "--------------------------------------------------\n",
      "<class 'pandas.core.frame.DataFrame'>\n",
      "RangeIndex: 151 entries, 0 to 150\n",
      "Data columns (total 2 columns):\n",
      " #   Column      Non-Null Count  Dtype \n",
      "---  ------      --------------  ----- \n",
      " 0   id          151 non-null    int64 \n",
      " 1   Quantidade  147 non-null    object\n",
      "dtypes: int64(1), object(1)\n",
      "memory usage: 2.5+ KB\n",
      "None\n",
      "--------------------------------------------------\n",
      "\n",
      "\n"
     ]
    },
    {
     "data": {
      "text/html": [
       "<div>\n",
       "<style scoped>\n",
       "    .dataframe tbody tr th:only-of-type {\n",
       "        vertical-align: middle;\n",
       "    }\n",
       "\n",
       "    .dataframe tbody tr th {\n",
       "        vertical-align: top;\n",
       "    }\n",
       "\n",
       "    .dataframe thead th {\n",
       "        text-align: right;\n",
       "    }\n",
       "</style>\n",
       "<table border=\"1\" class=\"dataframe\">\n",
       "  <thead>\n",
       "    <tr style=\"text-align: right;\">\n",
       "      <th></th>\n",
       "      <th>id</th>\n",
       "      <th>Quantidade</th>\n",
       "    </tr>\n",
       "  </thead>\n",
       "  <tbody>\n",
       "    <tr>\n",
       "      <th>0</th>\n",
       "      <td>178</td>\n",
       "      <td>20</td>\n",
       "    </tr>\n",
       "    <tr>\n",
       "      <th>1</th>\n",
       "      <td>634</td>\n",
       "      <td>121</td>\n",
       "    </tr>\n",
       "    <tr>\n",
       "      <th>2</th>\n",
       "      <td>483</td>\n",
       "      <td>220</td>\n",
       "    </tr>\n",
       "    <tr>\n",
       "      <th>3</th>\n",
       "      <td>476</td>\n",
       "      <td>190</td>\n",
       "    </tr>\n",
       "    <tr>\n",
       "      <th>4</th>\n",
       "      <td>132</td>\n",
       "      <td>67</td>\n",
       "    </tr>\n",
       "  </tbody>\n",
       "</table>\n",
       "</div>"
      ],
      "text/plain": [
       "    id Quantidade\n",
       "0  178         20\n",
       "1  634        121\n",
       "2  483        220\n",
       "3  476        190\n",
       "4  132         67"
      ]
     },
     "metadata": {},
     "output_type": "display_data"
    },
    {
     "data": {
      "text/html": [
       "<div>\n",
       "<style scoped>\n",
       "    .dataframe tbody tr th:only-of-type {\n",
       "        vertical-align: middle;\n",
       "    }\n",
       "\n",
       "    .dataframe tbody tr th {\n",
       "        vertical-align: top;\n",
       "    }\n",
       "\n",
       "    .dataframe thead th {\n",
       "        text-align: right;\n",
       "    }\n",
       "</style>\n",
       "<table border=\"1\" class=\"dataframe\">\n",
       "  <thead>\n",
       "    <tr style=\"text-align: right;\">\n",
       "      <th></th>\n",
       "      <th>id</th>\n",
       "      <th>Quantidade</th>\n",
       "    </tr>\n",
       "  </thead>\n",
       "  <tbody>\n",
       "    <tr>\n",
       "      <th>146</th>\n",
       "      <td>474</td>\n",
       "      <td>320</td>\n",
       "    </tr>\n",
       "    <tr>\n",
       "      <th>147</th>\n",
       "      <td>301</td>\n",
       "      <td>335</td>\n",
       "    </tr>\n",
       "    <tr>\n",
       "      <th>148</th>\n",
       "      <td>215</td>\n",
       "      <td>NaN</td>\n",
       "    </tr>\n",
       "    <tr>\n",
       "      <th>149</th>\n",
       "      <td>606</td>\n",
       "      <td>521</td>\n",
       "    </tr>\n",
       "    <tr>\n",
       "      <th>150</th>\n",
       "      <td>590</td>\n",
       "      <td>225</td>\n",
       "    </tr>\n",
       "  </tbody>\n",
       "</table>\n",
       "</div>"
      ],
      "text/plain": [
       "      id Quantidade\n",
       "146  474        320\n",
       "147  301        335\n",
       "148  215        NaN\n",
       "149  606        521\n",
       "150  590        225"
      ]
     },
     "metadata": {},
     "output_type": "display_data"
    },
    {
     "name": "stdout",
     "output_type": "stream",
     "text": [
      "**************************************************\n"
     ]
    }
   ],
   "source": [
    "print(50*\"*\")\n",
    "print(\"    DF material_didatico\")\n",
    "print(50*\"-\")\n",
    "print(material_didatico.info())\n",
    "print(50*\"-\")\n",
    "print(\"\\n\")\n",
    "display(material_didatico.head(5))\n",
    "display(material_didatico.tail(5))\n",
    "print(50*\"*\")"
   ]
  },
  {
   "cell_type": "code",
   "execution_count": 197,
   "metadata": {},
   "outputs": [
    {
     "name": "stdout",
     "output_type": "stream",
     "text": [
      "**************************************************\n",
      "    DF subprefeituras\n",
      "--------------------------------------------------\n",
      "<class 'pandas.core.frame.DataFrame'>\n",
      "RangeIndex: 164 entries, 0 to 163\n",
      "Data columns (total 2 columns):\n",
      " #   Column         Non-Null Count  Dtype \n",
      "---  ------         --------------  ----- \n",
      " 0   nome           164 non-null    object\n",
      " 1   subprefeitura  164 non-null    object\n",
      "dtypes: object(2)\n",
      "memory usage: 2.7+ KB\n",
      "None\n",
      "--------------------------------------------------\n",
      "\n",
      "\n"
     ]
    },
    {
     "data": {
      "text/html": [
       "<div>\n",
       "<style scoped>\n",
       "    .dataframe tbody tr th:only-of-type {\n",
       "        vertical-align: middle;\n",
       "    }\n",
       "\n",
       "    .dataframe tbody tr th {\n",
       "        vertical-align: top;\n",
       "    }\n",
       "\n",
       "    .dataframe thead th {\n",
       "        text-align: right;\n",
       "    }\n",
       "</style>\n",
       "<table border=\"1\" class=\"dataframe\">\n",
       "  <thead>\n",
       "    <tr style=\"text-align: right;\">\n",
       "      <th></th>\n",
       "      <th>nome</th>\n",
       "      <th>subprefeitura</th>\n",
       "    </tr>\n",
       "  </thead>\n",
       "  <tbody>\n",
       "    <tr>\n",
       "      <th>0</th>\n",
       "      <td>Santo Cristo</td>\n",
       "      <td>Centro</td>\n",
       "    </tr>\n",
       "    <tr>\n",
       "      <th>1</th>\n",
       "      <td>Gamboa</td>\n",
       "      <td>Centro</td>\n",
       "    </tr>\n",
       "    <tr>\n",
       "      <th>2</th>\n",
       "      <td>Saúde</td>\n",
       "      <td>Centro</td>\n",
       "    </tr>\n",
       "    <tr>\n",
       "      <th>3</th>\n",
       "      <td>Caju</td>\n",
       "      <td>Centro</td>\n",
       "    </tr>\n",
       "    <tr>\n",
       "      <th>4</th>\n",
       "      <td>Centro</td>\n",
       "      <td>Centro</td>\n",
       "    </tr>\n",
       "  </tbody>\n",
       "</table>\n",
       "</div>"
      ],
      "text/plain": [
       "           nome subprefeitura\n",
       "0  Santo Cristo        Centro\n",
       "1        Gamboa        Centro\n",
       "2         Saúde        Centro\n",
       "3          Caju        Centro\n",
       "4        Centro        Centro"
      ]
     },
     "metadata": {},
     "output_type": "display_data"
    },
    {
     "data": {
      "text/html": [
       "<div>\n",
       "<style scoped>\n",
       "    .dataframe tbody tr th:only-of-type {\n",
       "        vertical-align: middle;\n",
       "    }\n",
       "\n",
       "    .dataframe tbody tr th {\n",
       "        vertical-align: top;\n",
       "    }\n",
       "\n",
       "    .dataframe thead th {\n",
       "        text-align: right;\n",
       "    }\n",
       "</style>\n",
       "<table border=\"1\" class=\"dataframe\">\n",
       "  <thead>\n",
       "    <tr style=\"text-align: right;\">\n",
       "      <th></th>\n",
       "      <th>nome</th>\n",
       "      <th>subprefeitura</th>\n",
       "    </tr>\n",
       "  </thead>\n",
       "  <tbody>\n",
       "    <tr>\n",
       "      <th>159</th>\n",
       "      <td>Santa Cruz</td>\n",
       "      <td>Zona Oeste</td>\n",
       "    </tr>\n",
       "    <tr>\n",
       "      <th>160</th>\n",
       "      <td>Guaratiba</td>\n",
       "      <td>Zona Oeste</td>\n",
       "    </tr>\n",
       "    <tr>\n",
       "      <th>161</th>\n",
       "      <td>Barra de Guaratiba</td>\n",
       "      <td>Zona Oeste</td>\n",
       "    </tr>\n",
       "    <tr>\n",
       "      <th>162</th>\n",
       "      <td>Pedra de Guaratiba</td>\n",
       "      <td>Zona Oeste</td>\n",
       "    </tr>\n",
       "    <tr>\n",
       "      <th>163</th>\n",
       "      <td>Ilha de Guaratiba</td>\n",
       "      <td>Zona Oeste</td>\n",
       "    </tr>\n",
       "  </tbody>\n",
       "</table>\n",
       "</div>"
      ],
      "text/plain": [
       "                   nome subprefeitura\n",
       "159          Santa Cruz    Zona Oeste\n",
       "160           Guaratiba    Zona Oeste\n",
       "161  Barra de Guaratiba    Zona Oeste\n",
       "162  Pedra de Guaratiba    Zona Oeste\n",
       "163   Ilha de Guaratiba    Zona Oeste"
      ]
     },
     "metadata": {},
     "output_type": "display_data"
    },
    {
     "name": "stdout",
     "output_type": "stream",
     "text": [
      "**************************************************\n"
     ]
    }
   ],
   "source": [
    "print(50*\"*\")\n",
    "print(\"    DF subprefeituras\")\n",
    "print(50*\"-\")\n",
    "print(subprefeituras.info())\n",
    "print(50*\"-\")\n",
    "print(\"\\n\")\n",
    "display(subprefeituras.head(5))\n",
    "display(subprefeituras.tail(5))\n",
    "print(50*\"*\")"
   ]
  },
  {
   "attachments": {},
   "cell_type": "markdown",
   "metadata": {},
   "source": [
    "### Realizando a limpeza e tratamento dos dados"
   ]
  },
  {
   "cell_type": "markdown",
   "metadata": {},
   "source": [
    "a.1) converter tipo coluna de objeto para inteiro\n",
    "    - substituir NaN e None por 0\n",
    "    - substituir '' e ' ' por 0\n",
    "    - substituir 'NaN' por 0\n",
    "    - converter valor numérico do tipo objeto para int (Ex.: '356' para 356)"
   ]
  },
  {
   "attachments": {},
   "cell_type": "markdown",
   "metadata": {},
   "source": [
    "#### Tratamento da tabela ```material_didatico```"
   ]
  },
  {
   "cell_type": "code",
   "execution_count": 198,
   "metadata": {},
   "outputs": [],
   "source": [
    "material_didatico_copy_1 = material_didatico.copy()"
   ]
  },
  {
   "cell_type": "code",
   "execution_count": 199,
   "metadata": {},
   "outputs": [],
   "source": [
    "# normalizar nomes das colunas\n",
    "cols = material_didatico_copy_1.columns\n",
    "for col in cols:\n",
    "    material_didatico_copy_1.rename(columns={col: unidecode(col.lower().strip())}, inplace=True)"
   ]
  },
  {
   "cell_type": "code",
   "execution_count": 200,
   "metadata": {},
   "outputs": [],
   "source": [
    "# remove valores nulos\n",
    "material_didatico_copy_2 = material_didatico_copy_1.copy()\n",
    "material_didatico_copy_2['quantidade'].fillna('0', inplace=True)"
   ]
  },
  {
   "cell_type": "code",
   "execution_count": 201,
   "metadata": {},
   "outputs": [],
   "source": [
    "# converter todos os valores da coluna para int\n",
    "material_didatico_copy_2['quantidade'] = material_didatico_copy_2['quantidade'].apply(lambda x: int(x) if x.isdigit() else 0)"
   ]
  },
  {
   "cell_type": "code",
   "execution_count": 202,
   "metadata": {},
   "outputs": [],
   "source": [
    "# # Modo 2\n",
    "# import re\n",
    "\n",
    "# def normaliza_quantidade(valor) -> int:\n",
    "#     if valor:\n",
    "#         normaliza_valor = re.sub(r\"[^\\d: ]\", \"\", valor.strip())\n",
    "#         if normaliza_valor:\n",
    "#             return int(normaliza_valor)\n",
    "#         else:\n",
    "#             return 0\n",
    "#     else:\n",
    "#         return 0\n",
    "    \n",
    "# material_didatico['quantidade'] = material_didatico['quantidade'].apply(lambda x: normaliza_quantidade(x))"
   ]
  },
  {
   "cell_type": "code",
   "execution_count": 203,
   "metadata": {},
   "outputs": [
    {
     "name": "stdout",
     "output_type": "stream",
     "text": [
      "<class 'pandas.core.frame.DataFrame'>\n",
      "RangeIndex: 151 entries, 0 to 150\n",
      "Data columns (total 2 columns):\n",
      " #   Column      Non-Null Count  Dtype\n",
      "---  ------      --------------  -----\n",
      " 0   id          151 non-null    int64\n",
      " 1   quantidade  151 non-null    int64\n",
      "dtypes: int64(2)\n",
      "memory usage: 2.5 KB\n"
     ]
    }
   ],
   "source": [
    "material_didatico_copy_2.info()"
   ]
  },
  {
   "cell_type": "code",
   "execution_count": 204,
   "metadata": {},
   "outputs": [
    {
     "data": {
      "text/html": [
       "<div>\n",
       "<style scoped>\n",
       "    .dataframe tbody tr th:only-of-type {\n",
       "        vertical-align: middle;\n",
       "    }\n",
       "\n",
       "    .dataframe tbody tr th {\n",
       "        vertical-align: top;\n",
       "    }\n",
       "\n",
       "    .dataframe thead th {\n",
       "        text-align: right;\n",
       "    }\n",
       "</style>\n",
       "<table border=\"1\" class=\"dataframe\">\n",
       "  <thead>\n",
       "    <tr style=\"text-align: right;\">\n",
       "      <th></th>\n",
       "      <th>id</th>\n",
       "      <th>quantidade</th>\n",
       "    </tr>\n",
       "  </thead>\n",
       "  <tbody>\n",
       "    <tr>\n",
       "      <th>0</th>\n",
       "      <td>178</td>\n",
       "      <td>20</td>\n",
       "    </tr>\n",
       "    <tr>\n",
       "      <th>1</th>\n",
       "      <td>634</td>\n",
       "      <td>121</td>\n",
       "    </tr>\n",
       "    <tr>\n",
       "      <th>2</th>\n",
       "      <td>483</td>\n",
       "      <td>220</td>\n",
       "    </tr>\n",
       "    <tr>\n",
       "      <th>3</th>\n",
       "      <td>476</td>\n",
       "      <td>190</td>\n",
       "    </tr>\n",
       "    <tr>\n",
       "      <th>4</th>\n",
       "      <td>132</td>\n",
       "      <td>67</td>\n",
       "    </tr>\n",
       "    <tr>\n",
       "      <th>...</th>\n",
       "      <td>...</td>\n",
       "      <td>...</td>\n",
       "    </tr>\n",
       "    <tr>\n",
       "      <th>146</th>\n",
       "      <td>474</td>\n",
       "      <td>320</td>\n",
       "    </tr>\n",
       "    <tr>\n",
       "      <th>147</th>\n",
       "      <td>301</td>\n",
       "      <td>335</td>\n",
       "    </tr>\n",
       "    <tr>\n",
       "      <th>148</th>\n",
       "      <td>215</td>\n",
       "      <td>0</td>\n",
       "    </tr>\n",
       "    <tr>\n",
       "      <th>149</th>\n",
       "      <td>606</td>\n",
       "      <td>521</td>\n",
       "    </tr>\n",
       "    <tr>\n",
       "      <th>150</th>\n",
       "      <td>590</td>\n",
       "      <td>225</td>\n",
       "    </tr>\n",
       "  </tbody>\n",
       "</table>\n",
       "<p>151 rows × 2 columns</p>\n",
       "</div>"
      ],
      "text/plain": [
       "      id  quantidade\n",
       "0    178          20\n",
       "1    634         121\n",
       "2    483         220\n",
       "3    476         190\n",
       "4    132          67\n",
       "..   ...         ...\n",
       "146  474         320\n",
       "147  301         335\n",
       "148  215           0\n",
       "149  606         521\n",
       "150  590         225\n",
       "\n",
       "[151 rows x 2 columns]"
      ]
     },
     "execution_count": 204,
     "metadata": {},
     "output_type": "execute_result"
    }
   ],
   "source": [
    "material_didatico_copy_2"
   ]
  },
  {
   "attachments": {},
   "cell_type": "markdown",
   "metadata": {},
   "source": [
    "#### Tratamento da tabela ```subprefeitura```"
   ]
  },
  {
   "cell_type": "code",
   "execution_count": 205,
   "metadata": {},
   "outputs": [],
   "source": [
    "subprefeituras_copy_1 = subprefeituras.copy()"
   ]
  },
  {
   "cell_type": "code",
   "execution_count": 206,
   "metadata": {},
   "outputs": [],
   "source": [
    "# normalizar nomes das colunas\n",
    "cols = subprefeituras_copy_1.columns\n",
    "for col in cols:\n",
    "    subprefeituras_copy_1.rename(columns={col: unidecode(col.lower().strip())}, inplace=True)"
   ]
  },
  {
   "cell_type": "code",
   "execution_count": 207,
   "metadata": {},
   "outputs": [],
   "source": [
    "# converter letras em minúsculos e remover acentos\n",
    "subprefeituras_copy_2 = subprefeituras_copy_1.copy()\n",
    "subprefeituras_copy_2 = subprefeituras_copy_2.applymap(lambda x: unidecode(x.upper()))"
   ]
  },
  {
   "cell_type": "code",
   "execution_count": 208,
   "metadata": {},
   "outputs": [
    {
     "data": {
      "text/html": [
       "<div>\n",
       "<style scoped>\n",
       "    .dataframe tbody tr th:only-of-type {\n",
       "        vertical-align: middle;\n",
       "    }\n",
       "\n",
       "    .dataframe tbody tr th {\n",
       "        vertical-align: top;\n",
       "    }\n",
       "\n",
       "    .dataframe thead th {\n",
       "        text-align: right;\n",
       "    }\n",
       "</style>\n",
       "<table border=\"1\" class=\"dataframe\">\n",
       "  <thead>\n",
       "    <tr style=\"text-align: right;\">\n",
       "      <th></th>\n",
       "      <th>nome</th>\n",
       "      <th>subprefeitura</th>\n",
       "    </tr>\n",
       "  </thead>\n",
       "  <tbody>\n",
       "    <tr>\n",
       "      <th>0</th>\n",
       "      <td>SANTO CRISTO</td>\n",
       "      <td>CENTRO</td>\n",
       "    </tr>\n",
       "    <tr>\n",
       "      <th>1</th>\n",
       "      <td>GAMBOA</td>\n",
       "      <td>CENTRO</td>\n",
       "    </tr>\n",
       "    <tr>\n",
       "      <th>2</th>\n",
       "      <td>SAUDE</td>\n",
       "      <td>CENTRO</td>\n",
       "    </tr>\n",
       "    <tr>\n",
       "      <th>3</th>\n",
       "      <td>CAJU</td>\n",
       "      <td>CENTRO</td>\n",
       "    </tr>\n",
       "    <tr>\n",
       "      <th>4</th>\n",
       "      <td>CENTRO</td>\n",
       "      <td>CENTRO</td>\n",
       "    </tr>\n",
       "    <tr>\n",
       "      <th>...</th>\n",
       "      <td>...</td>\n",
       "      <td>...</td>\n",
       "    </tr>\n",
       "    <tr>\n",
       "      <th>159</th>\n",
       "      <td>SANTA CRUZ</td>\n",
       "      <td>ZONA OESTE</td>\n",
       "    </tr>\n",
       "    <tr>\n",
       "      <th>160</th>\n",
       "      <td>GUARATIBA</td>\n",
       "      <td>ZONA OESTE</td>\n",
       "    </tr>\n",
       "    <tr>\n",
       "      <th>161</th>\n",
       "      <td>BARRA DE GUARATIBA</td>\n",
       "      <td>ZONA OESTE</td>\n",
       "    </tr>\n",
       "    <tr>\n",
       "      <th>162</th>\n",
       "      <td>PEDRA DE GUARATIBA</td>\n",
       "      <td>ZONA OESTE</td>\n",
       "    </tr>\n",
       "    <tr>\n",
       "      <th>163</th>\n",
       "      <td>ILHA DE GUARATIBA</td>\n",
       "      <td>ZONA OESTE</td>\n",
       "    </tr>\n",
       "  </tbody>\n",
       "</table>\n",
       "<p>164 rows × 2 columns</p>\n",
       "</div>"
      ],
      "text/plain": [
       "                   nome subprefeitura\n",
       "0          SANTO CRISTO        CENTRO\n",
       "1                GAMBOA        CENTRO\n",
       "2                 SAUDE        CENTRO\n",
       "3                  CAJU        CENTRO\n",
       "4                CENTRO        CENTRO\n",
       "..                  ...           ...\n",
       "159          SANTA CRUZ    ZONA OESTE\n",
       "160           GUARATIBA    ZONA OESTE\n",
       "161  BARRA DE GUARATIBA    ZONA OESTE\n",
       "162  PEDRA DE GUARATIBA    ZONA OESTE\n",
       "163   ILHA DE GUARATIBA    ZONA OESTE\n",
       "\n",
       "[164 rows x 2 columns]"
      ]
     },
     "execution_count": 208,
     "metadata": {},
     "output_type": "execute_result"
    }
   ],
   "source": [
    "subprefeituras_copy_2"
   ]
  },
  {
   "attachments": {},
   "cell_type": "markdown",
   "metadata": {},
   "source": [
    "#### Tratamento da tabela ```escolas```"
   ]
  },
  {
   "cell_type": "code",
   "execution_count": 209,
   "metadata": {},
   "outputs": [],
   "source": [
    "escolas_copy_1 = escolas.copy()"
   ]
  },
  {
   "cell_type": "code",
   "execution_count": 210,
   "metadata": {},
   "outputs": [],
   "source": [
    "# normalizar nomes das colunas\n",
    "cols = escolas_copy_1.columns\n",
    "for col in cols:\n",
    "    escolas_copy_1.rename(columns={col: unidecode(col.lower().strip())}, inplace=True)"
   ]
  },
  {
   "cell_type": "code",
   "execution_count": 211,
   "metadata": {},
   "outputs": [],
   "source": [
    "# normaliza coluna id (3 caracteres. Ex: '024')\n",
    "# Modo 1\n",
    "escolas_copy_2 = escolas_copy_1.copy()\n",
    "escolas_copy_2['id'] = escolas_copy_2['id'].apply(lambda x: str(x).zfill(3))"
   ]
  },
  {
   "cell_type": "code",
   "execution_count": 212,
   "metadata": {},
   "outputs": [],
   "source": [
    "# # Modo 2\n",
    "# escolas_copy_2_modo2 = escolas_copy_1.copy()\n",
    "# escolas_copy_2_modo2['id'] = escolas_copy_2_modo2['id'].astype(str).str.zfill(3)"
   ]
  },
  {
   "cell_type": "code",
   "execution_count": 213,
   "metadata": {},
   "outputs": [],
   "source": [
    "# Modo 1\n",
    "# normalizar coluna lat com 5 casas decimais\n",
    "escolas_copy_3 = escolas_copy_2.copy()\n",
    "for col in ['lat', 'lon']:\n",
    "    escolas_copy_3[col] = escolas_copy_3[col].str.replace(\",\", \".\").astype(float).apply(lambda x: round(x, 5))"
   ]
  },
  {
   "cell_type": "code",
   "execution_count": 214,
   "metadata": {},
   "outputs": [],
   "source": [
    "# # Modo 2\n",
    "# # normalizar coluna lat com 5 casas decimais\n",
    "# escolas_copy_3_modo2 = escolas_copy_2.copy()\n",
    "# for col in ['lat', 'lon']:\n",
    "#     escolas_copy_3_modo2[col] = escolas_copy_3_modo2[col].str.replace(\",\", \".\").astype(float).round(5)"
   ]
  },
  {
   "cell_type": "code",
   "execution_count": 215,
   "metadata": {},
   "outputs": [],
   "source": [
    "escolas_copy_4 = escolas_copy_3.copy()"
   ]
  },
  {
   "cell_type": "code",
   "execution_count": 216,
   "metadata": {},
   "outputs": [],
   "source": [
    "# normalizar colunas (remove acentos e string em maiúsculo)\n",
    "escolas_copy_4 = escolas_copy_3.copy()\n",
    "escolas_copy_4[['escolas_postos', 'bairro', 'endereco']] = escolas_copy_4[['escolas_postos', 'bairro', 'endereco']].applymap(lambda x: unidecode(x.upper()))"
   ]
  },
  {
   "attachments": {},
   "cell_type": "markdown",
   "metadata": {},
   "source": [
    "##### Substituir abreviações de endereço"
   ]
  },
  {
   "cell_type": "code",
   "execution_count": 217,
   "metadata": {},
   "outputs": [],
   "source": [
    "escolas_copy_5 = escolas_copy_4.copy()"
   ]
  },
  {
   "cell_type": "code",
   "execution_count": 218,
   "metadata": {},
   "outputs": [
    {
     "data": {
      "text/plain": [
       "{'ANA',\n",
       " 'AV',\n",
       " 'AV.',\n",
       " 'DA',\n",
       " 'DAS',\n",
       " 'DE',\n",
       " 'DO',\n",
       " 'DOM',\n",
       " 'DOS',\n",
       " 'E',\n",
       " 'JR',\n",
       " 'KM',\n",
       " 'PAU',\n",
       " 'R.',\n",
       " 'RIO',\n",
       " 'RUA',\n",
       " 'S/N',\n",
       " 'SD.',\n",
       " 'UBA'}"
      ]
     },
     "execution_count": 218,
     "metadata": {},
     "output_type": "execute_result"
    }
   ],
   "source": [
    "# verificar possíveis abreviações\n",
    "abreviacoes = set()\n",
    "\n",
    "for i, linha_escola in escolas_copy_5.iterrows():\n",
    "    lista_palavra_endereco = linha_escola['endereco'].split()\n",
    "    for palavra in lista_palavra_endereco:\n",
    "        if len(palavra) <= 3 and not palavra.isdigit():\n",
    "            abreviacoes.update([palavra])\n",
    "\n",
    "abreviacoes"
   ]
  },
  {
   "cell_type": "code",
   "execution_count": 219,
   "metadata": {},
   "outputs": [
    {
     "data": {
      "text/plain": [
       "['RIO', 'R.', 'AV', 'RUA', 'AV.']"
      ]
     },
     "execution_count": 219,
     "metadata": {},
     "output_type": "execute_result"
    }
   ],
   "source": [
    "# verificar possíveis abreviações para logradouros\n",
    "filtro_abreviacoes = [abreviacao for abreviacao in abreviacoes if abreviacao.startswith('R') or abreviacao.startswith('AV')]\n",
    "filtro_abreviacoes"
   ]
  },
  {
   "cell_type": "code",
   "execution_count": 220,
   "metadata": {},
   "outputs": [],
   "source": [
    "# normalizar coluna endereco (substituir abreviações de logradouro)\n",
    "escolas_copy_5 = escolas_copy_4.copy()\n",
    "escolas_copy_5['endereco'] = escolas_copy_5['endereco'].str.replace('R. ', 'RUA ', regex=True).replace('AV. ', 'AVENIDA ', regex=True).replace('AV ', 'AVENIDA ', regex=True)"
   ]
  },
  {
   "cell_type": "code",
   "execution_count": 221,
   "metadata": {},
   "outputs": [
    {
     "data": {
      "text/html": [
       "<div>\n",
       "<style scoped>\n",
       "    .dataframe tbody tr th:only-of-type {\n",
       "        vertical-align: middle;\n",
       "    }\n",
       "\n",
       "    .dataframe tbody tr th {\n",
       "        vertical-align: top;\n",
       "    }\n",
       "\n",
       "    .dataframe thead th {\n",
       "        text-align: right;\n",
       "    }\n",
       "</style>\n",
       "<table border=\"1\" class=\"dataframe\">\n",
       "  <thead>\n",
       "    <tr style=\"text-align: right;\">\n",
       "      <th></th>\n",
       "      <th>id</th>\n",
       "      <th>escolas_postos</th>\n",
       "      <th>bairro</th>\n",
       "      <th>endereco</th>\n",
       "      <th>lat</th>\n",
       "      <th>lon</th>\n",
       "    </tr>\n",
       "  </thead>\n",
       "  <tbody>\n",
       "    <tr>\n",
       "      <th>0</th>\n",
       "      <td>178</td>\n",
       "      <td>CENTRO INTEGRADO DE EDUCACAO PUBLICA HENFIL</td>\n",
       "      <td>CAJU</td>\n",
       "      <td>RUA CARLOS SEIDL S/No</td>\n",
       "      <td>-22.88089</td>\n",
       "      <td>-43.22533</td>\n",
       "    </tr>\n",
       "    <tr>\n",
       "      <th>1</th>\n",
       "      <td>634</td>\n",
       "      <td>EM ALICE DO AMARAL PEIXOTO</td>\n",
       "      <td>BENFICA</td>\n",
       "      <td>RUA EBANO 187</td>\n",
       "      <td>-22.88957</td>\n",
       "      <td>-43.23620</td>\n",
       "    </tr>\n",
       "    <tr>\n",
       "      <th>2</th>\n",
       "      <td>483</td>\n",
       "      <td>EM CELESTINO SILVA</td>\n",
       "      <td>CENTRO</td>\n",
       "      <td>RUA DO LAVRADIO, 56</td>\n",
       "      <td>-22.90929</td>\n",
       "      <td>-43.18358</td>\n",
       "    </tr>\n",
       "    <tr>\n",
       "      <th>3</th>\n",
       "      <td>476</td>\n",
       "      <td>ESCOLA MUNICIPAL FLORIANO PEIXOTO</td>\n",
       "      <td>SAO CRISTOVAO</td>\n",
       "      <td>PRACA ARGENTINA 20</td>\n",
       "      <td>-22.89763</td>\n",
       "      <td>-43.22746</td>\n",
       "    </tr>\n",
       "    <tr>\n",
       "      <th>4</th>\n",
       "      <td>132</td>\n",
       "      <td>EM PEREIRA PASSOS</td>\n",
       "      <td>RIO COMPRIDO</td>\n",
       "      <td>PRACA CONDESSA PAULO DE FRONTIN 45</td>\n",
       "      <td>-22.92441</td>\n",
       "      <td>-43.20858</td>\n",
       "    </tr>\n",
       "  </tbody>\n",
       "</table>\n",
       "</div>"
      ],
      "text/plain": [
       "    id                               escolas_postos         bairro  \\\n",
       "0  178  CENTRO INTEGRADO DE EDUCACAO PUBLICA HENFIL           CAJU   \n",
       "1  634                   EM ALICE DO AMARAL PEIXOTO        BENFICA   \n",
       "2  483                           EM CELESTINO SILVA         CENTRO   \n",
       "3  476            ESCOLA MUNICIPAL FLORIANO PEIXOTO  SAO CRISTOVAO   \n",
       "4  132                            EM PEREIRA PASSOS   RIO COMPRIDO   \n",
       "\n",
       "                             endereco       lat       lon  \n",
       "0               RUA CARLOS SEIDL S/No -22.88089 -43.22533  \n",
       "1                       RUA EBANO 187 -22.88957 -43.23620  \n",
       "2                 RUA DO LAVRADIO, 56 -22.90929 -43.18358  \n",
       "3                  PRACA ARGENTINA 20 -22.89763 -43.22746  \n",
       "4  PRACA CONDESSA PAULO DE FRONTIN 45 -22.92441 -43.20858  "
      ]
     },
     "metadata": {},
     "output_type": "display_data"
    }
   ],
   "source": [
    "display(escolas_copy_5.head(5))"
   ]
  },
  {
   "cell_type": "code",
   "execution_count": 222,
   "metadata": {},
   "outputs": [
    {
     "data": {
      "text/plain": [
       "Index(['id', 'escolas_postos', 'bairro', 'endereco', 'lat', 'lon'], dtype='object')"
      ]
     },
     "execution_count": 222,
     "metadata": {},
     "output_type": "execute_result"
    }
   ],
   "source": [
    "escolas_copy_5.columns"
   ]
  },
  {
   "cell_type": "code",
   "execution_count": 223,
   "metadata": {},
   "outputs": [],
   "source": [
    "# valida normalização de abreviações do campo endereco\n",
    "for i, linha_escola_2 in escolas_copy_5.iterrows():\n",
    "    if linha_escola_2['endereco'].startswith('R. ')  or \\\n",
    "       linha_escola_2['endereco'].startswith('AV. ') or \\\n",
    "       linha_escola_2['endereco'].startswith('AV '):\n",
    "        print(linha_escola_2)"
   ]
  },
  {
   "attachments": {},
   "cell_type": "markdown",
   "metadata": {},
   "source": [
    "##### Adicionar vírgula para o número do endereço e unificar os SN"
   ]
  },
  {
   "cell_type": "code",
   "execution_count": 224,
   "metadata": {},
   "outputs": [],
   "source": [
    "import re\n",
    "# Função para adicionar vírgula entre endereço e número\n",
    "def add_comma_to_address(address):\n",
    "    # Use expressões regulares para encontrar o número no final do endereço\n",
    "    match = re.search(r'(\\d+(\\.\\d+)?)$', address)\n",
    "    \n",
    "    if match:\n",
    "        # Se um número for encontrado, adicione uma vírgula antes dele\n",
    "        address_with_comma = re.sub(r'(\\d+(\\.\\d+)?)$', r', \\1', address)\n",
    "        return address_with_comma\n",
    "    else:\n",
    "        return address\n",
    "\n",
    "# Função para tratar as diversas maneiras de endereços sem numero para `SN``\n",
    "def replace_s_n(text):\n",
    "    # Lista de trechos a serem substituídos\n",
    "    to_replace = [\"S/No\", \"S/N.o\", \"S/N\", \"S/N.deg\", \"S/Ndeg\"]\n",
    "    \n",
    "    # Substituir os trechos na string\n",
    "    for item in to_replace:\n",
    "        text = text.replace(item, \", SN\")\n",
    "    \n",
    "    return text"
   ]
  },
  {
   "cell_type": "code",
   "execution_count": 225,
   "metadata": {},
   "outputs": [
    {
     "name": "stdout",
     "output_type": "stream",
     "text": [
      "    id                               escolas_postos         bairro  \\\n",
      "0  178  CENTRO INTEGRADO DE EDUCACAO PUBLICA HENFIL           CAJU   \n",
      "1  634                   EM ALICE DO AMARAL PEIXOTO        BENFICA   \n",
      "2  483                           EM CELESTINO SILVA         CENTRO   \n",
      "3  476            ESCOLA MUNICIPAL FLORIANO PEIXOTO  SAO CRISTOVAO   \n",
      "4  132                            EM PEREIRA PASSOS   RIO COMPRIDO   \n",
      "\n",
      "                               endereco       lat       lon  \n",
      "0                 RUA CARLOS SEIDL , SN -22.88089 -43.22533  \n",
      "1                       RUA EBANO , 187 -22.88957 -43.23620  \n",
      "2                 RUA DO LAVRADIO, , 56 -22.90929 -43.18358  \n",
      "3                  PRACA ARGENTINA , 20 -22.89763 -43.22746  \n",
      "4  PRACA CONDESSA PAULO DE FRONTIN , 45 -22.92441 -43.20858  \n"
     ]
    }
   ],
   "source": [
    "escolas_copy_6 = escolas_copy_5.copy()\n",
    "\n",
    "# Aplicar a função à coluna 'endereco' do DataFrame\n",
    "escolas_copy_6['endereco'] = escolas_copy_6['endereco'].apply(add_comma_to_address)\n",
    "\n",
    "\n",
    "escolas_copy_6.loc[:,'endereco'] = escolas_copy_6['endereco'].apply(replace_s_n)\n",
    "# Exibir o DataFrame resultante\n",
    "print(escolas_copy_6.head())\n"
   ]
  },
  {
   "cell_type": "code",
   "execution_count": 226,
   "metadata": {},
   "outputs": [
    {
     "name": "stdout",
     "output_type": "stream",
     "text": [
      "<class 'pandas.core.frame.DataFrame'>\n",
      "RangeIndex: 152 entries, 0 to 151\n",
      "Data columns (total 6 columns):\n",
      " #   Column          Non-Null Count  Dtype  \n",
      "---  ------          --------------  -----  \n",
      " 0   id              152 non-null    object \n",
      " 1   escolas_postos  152 non-null    object \n",
      " 2   bairro          152 non-null    object \n",
      " 3   endereco        152 non-null    object \n",
      " 4   lat             152 non-null    float64\n",
      " 5   lon             152 non-null    float64\n",
      "dtypes: float64(2), object(4)\n",
      "memory usage: 7.2+ KB\n"
     ]
    }
   ],
   "source": [
    "escolas_copy_6.info()"
   ]
  },
  {
   "cell_type": "code",
   "execution_count": 227,
   "metadata": {},
   "outputs": [
    {
     "data": {
      "text/plain": [
       "147           ESTRADA DO MAGARCA , 9.183\n",
       "148           ESTRADA DO MATO ALTO, , SN\n",
       "149    ESTRADA TEODORETO DE CAMARGO , SN\n",
       "150             CAMINHO DA MATRIZ , 4406\n",
       "151         RUA AGOSTINHO BARBALHO , 401\n",
       "Name: endereco, dtype: object"
      ]
     },
     "execution_count": 227,
     "metadata": {},
     "output_type": "execute_result"
    }
   ],
   "source": [
    "escolas_copy_6['endereco'].tail()"
   ]
  },
  {
   "cell_type": "code",
   "execution_count": 228,
   "metadata": {},
   "outputs": [],
   "source": [
    "endereco_series = escolas_copy_6['endereco']\n",
    "\n",
    "#  str.replace() para substituir vírgulas repetidas\n",
    "endereco_series = endereco_series.str.replace(r',+', ',')\n",
    "\n",
    "# Atualize a coluna 'endereco' no DataFrame original\n",
    "escolas_copy_6['endereco'] = endereco_series\n"
   ]
  },
  {
   "cell_type": "code",
   "execution_count": 229,
   "metadata": {},
   "outputs": [
    {
     "name": "stderr",
     "output_type": "stream",
     "text": [
      "/tmp/ipykernel_16327/2775576906.py:6: SettingWithCopyWarning: \n",
      "A value is trying to be set on a copy of a slice from a DataFrame\n",
      "\n",
      "See the caveats in the documentation: https://pandas.pydata.org/pandas-docs/stable/user_guide/indexing.html#returning-a-view-versus-a-copy\n",
      "  endereco_series.loc[condicao] = endereco_series.loc[condicao].str.replace(', ', ',')\n",
      "/tmp/ipykernel_16327/2775576906.py:9: SettingWithCopyWarning: \n",
      "A value is trying to be set on a copy of a slice from a DataFrame\n",
      "\n",
      "See the caveats in the documentation: https://pandas.pydata.org/pandas-docs/stable/user_guide/indexing.html#returning-a-view-versus-a-copy\n",
      "  endereco_series.loc[condicao] = endereco_series.loc[condicao].str.replace(',,', ',')\n",
      "/tmp/ipykernel_16327/2775576906.py:13: SettingWithCopyWarning: \n",
      "A value is trying to be set on a copy of a slice from a DataFrame\n",
      "\n",
      "See the caveats in the documentation: https://pandas.pydata.org/pandas-docs/stable/user_guide/indexing.html#returning-a-view-versus-a-copy\n",
      "  endereco_series.loc[condicao] = endereco_series.loc[condicao].str.replace(' ,', ',')\n"
     ]
    }
   ],
   "source": [
    "endereco_series = escolas_copy_6['endereco']\n",
    "\n",
    "condicao = endereco_series.str.count(',') > 1\n",
    "\n",
    "\n",
    "endereco_series.loc[condicao] = endereco_series.loc[condicao].str.replace(', ', ',')\n",
    "escolas_copy_6['endereco'] = endereco_series\n",
    "\n",
    "endereco_series.loc[condicao] = endereco_series.loc[condicao].str.replace(',,', ',')\n",
    "escolas_copy_6['endereco'] = endereco_series\n",
    "\n",
    "\n",
    "endereco_series.loc[condicao] = endereco_series.loc[condicao].str.replace(' ,', ',')\n",
    "escolas_copy_6['endereco'] = endereco_series\n"
   ]
  },
  {
   "cell_type": "code",
   "execution_count": 230,
   "metadata": {},
   "outputs": [
    {
     "data": {
      "text/plain": [
       "0                   RUA CARLOS SEIDL , SN\n",
       "1                         RUA EBANO , 187\n",
       "2                      RUA DO LAVRADIO,56\n",
       "3                    PRACA ARGENTINA , 20\n",
       "4    PRACA CONDESSA PAULO DE FRONTIN , 45\n",
       "5                   RUA BARAO DA TORRE,90\n",
       "6                 RUA EDUARDO SANTOS , 38\n",
       "7          AVENIDA PRESIDENTE VARGAS , SN\n",
       "8                     RUA ANA NERUA , 192\n",
       "9                    RUA HADDOCK LOBO,148\n",
       "Name: endereco, dtype: object"
      ]
     },
     "execution_count": 230,
     "metadata": {},
     "output_type": "execute_result"
    }
   ],
   "source": [
    "escolas_copy_6['endereco'].head(10)"
   ]
  },
  {
   "cell_type": "code",
   "execution_count": 231,
   "metadata": {},
   "outputs": [
    {
     "name": "stdout",
     "output_type": "stream",
     "text": [
      "<class 'pandas.core.frame.DataFrame'>\n",
      "RangeIndex: 152 entries, 0 to 151\n",
      "Data columns (total 6 columns):\n",
      " #   Column          Non-Null Count  Dtype  \n",
      "---  ------          --------------  -----  \n",
      " 0   id              152 non-null    object \n",
      " 1   escolas_postos  152 non-null    object \n",
      " 2   bairro          152 non-null    object \n",
      " 3   endereco        152 non-null    object \n",
      " 4   lat             152 non-null    float64\n",
      " 5   lon             152 non-null    float64\n",
      "dtypes: float64(2), object(4)\n",
      "memory usage: 7.2+ KB\n"
     ]
    }
   ],
   "source": [
    "escolas_copy_6.info()"
   ]
  },
  {
   "attachments": {},
   "cell_type": "markdown",
   "metadata": {},
   "source": [
    "##### quebrando coluna endereco em logradouro e numero"
   ]
  },
  {
   "cell_type": "code",
   "execution_count": 232,
   "metadata": {},
   "outputs": [
    {
     "name": "stdout",
     "output_type": "stream",
     "text": [
      "<class 'pandas.core.frame.DataFrame'>\n",
      "RangeIndex: 152 entries, 0 to 151\n",
      "Data columns (total 8 columns):\n",
      " #   Column          Non-Null Count  Dtype  \n",
      "---  ------          --------------  -----  \n",
      " 0   id              152 non-null    object \n",
      " 1   escolas_postos  152 non-null    object \n",
      " 2   bairro          152 non-null    object \n",
      " 3   endereco        152 non-null    object \n",
      " 4   lat             152 non-null    float64\n",
      " 5   lon             152 non-null    float64\n",
      " 6   logradouro      152 non-null    object \n",
      " 7   numero          148 non-null    object \n",
      "dtypes: float64(2), object(6)\n",
      "memory usage: 9.6+ KB\n"
     ]
    }
   ],
   "source": [
    "# Use str.split() para dividir a coluna 'endereco'\n",
    "escolas_copy_6[['logradouro', 'numero']] = escolas_copy_6['endereco'].str.split(',', n=1, expand=True)\n",
    "\n",
    "escolas_copy_6.info()"
   ]
  },
  {
   "cell_type": "code",
   "execution_count": 233,
   "metadata": {},
   "outputs": [],
   "source": [
    "# substitui endereços sem número informado no campo numero\n",
    "escolas_copy_6['numero'].fillna('Não informado', inplace=True)"
   ]
  },
  {
   "cell_type": "code",
   "execution_count": 234,
   "metadata": {},
   "outputs": [
    {
     "data": {
      "text/html": [
       "<div>\n",
       "<style scoped>\n",
       "    .dataframe tbody tr th:only-of-type {\n",
       "        vertical-align: middle;\n",
       "    }\n",
       "\n",
       "    .dataframe tbody tr th {\n",
       "        vertical-align: top;\n",
       "    }\n",
       "\n",
       "    .dataframe thead th {\n",
       "        text-align: right;\n",
       "    }\n",
       "</style>\n",
       "<table border=\"1\" class=\"dataframe\">\n",
       "  <thead>\n",
       "    <tr style=\"text-align: right;\">\n",
       "      <th></th>\n",
       "      <th>id</th>\n",
       "      <th>escolas_postos</th>\n",
       "      <th>bairro</th>\n",
       "      <th>endereco</th>\n",
       "      <th>lat</th>\n",
       "      <th>lon</th>\n",
       "      <th>logradouro</th>\n",
       "      <th>numero</th>\n",
       "    </tr>\n",
       "  </thead>\n",
       "  <tbody>\n",
       "  </tbody>\n",
       "</table>\n",
       "</div>"
      ],
      "text/plain": [
       "Empty DataFrame\n",
       "Columns: [id, escolas_postos, bairro, endereco, lat, lon, logradouro, numero]\n",
       "Index: []"
      ]
     },
     "metadata": {},
     "output_type": "display_data"
    },
    {
     "name": "stdout",
     "output_type": "stream",
     "text": [
      "<class 'pandas.core.frame.DataFrame'>\n",
      "RangeIndex: 152 entries, 0 to 151\n",
      "Data columns (total 8 columns):\n",
      " #   Column          Non-Null Count  Dtype  \n",
      "---  ------          --------------  -----  \n",
      " 0   id              152 non-null    object \n",
      " 1   escolas_postos  152 non-null    object \n",
      " 2   bairro          152 non-null    object \n",
      " 3   endereco        152 non-null    object \n",
      " 4   lat             152 non-null    float64\n",
      " 5   lon             152 non-null    float64\n",
      " 6   logradouro      152 non-null    object \n",
      " 7   numero          152 non-null    object \n",
      "dtypes: float64(2), object(6)\n",
      "memory usage: 9.6+ KB\n",
      "None\n"
     ]
    }
   ],
   "source": [
    "# verifica se preencher os campos None\n",
    "display(escolas_copy_6[escolas_copy_6['numero'].isna()])\n",
    "\n",
    "print(escolas_copy_6.info())"
   ]
  },
  {
   "cell_type": "code",
   "execution_count": 235,
   "metadata": {},
   "outputs": [
    {
     "data": {
      "text/html": [
       "<div>\n",
       "<style scoped>\n",
       "    .dataframe tbody tr th:only-of-type {\n",
       "        vertical-align: middle;\n",
       "    }\n",
       "\n",
       "    .dataframe tbody tr th {\n",
       "        vertical-align: top;\n",
       "    }\n",
       "\n",
       "    .dataframe thead th {\n",
       "        text-align: right;\n",
       "    }\n",
       "</style>\n",
       "<table border=\"1\" class=\"dataframe\">\n",
       "  <thead>\n",
       "    <tr style=\"text-align: right;\">\n",
       "      <th></th>\n",
       "      <th>id</th>\n",
       "      <th>escolas_postos</th>\n",
       "      <th>bairro</th>\n",
       "      <th>endereco</th>\n",
       "      <th>lat</th>\n",
       "      <th>lon</th>\n",
       "      <th>logradouro</th>\n",
       "      <th>numero</th>\n",
       "    </tr>\n",
       "  </thead>\n",
       "  <tbody>\n",
       "    <tr>\n",
       "      <th>68</th>\n",
       "      <td>260</td>\n",
       "      <td>EM PROFESSOR JOSUE DE CASTRO</td>\n",
       "      <td>BONSUCESSO</td>\n",
       "      <td>AVENIDA BRASIL 4040 RUA DA VITORIA</td>\n",
       "      <td>-22.87374</td>\n",
       "      <td>-43.24071</td>\n",
       "      <td>AVENIDA BRASIL 4040 RUA DA VITORIA</td>\n",
       "      <td>Não informado</td>\n",
       "    </tr>\n",
       "  </tbody>\n",
       "</table>\n",
       "</div>"
      ],
      "text/plain": [
       "     id                escolas_postos      bairro  \\\n",
       "68  260  EM PROFESSOR JOSUE DE CASTRO  BONSUCESSO   \n",
       "\n",
       "                              endereco       lat       lon  \\\n",
       "68  AVENIDA BRASIL 4040 RUA DA VITORIA -22.87374 -43.24071   \n",
       "\n",
       "                            logradouro         numero  \n",
       "68  AVENIDA BRASIL 4040 RUA DA VITORIA  Não informado  "
      ]
     },
     "metadata": {},
     "output_type": "display_data"
    },
    {
     "data": {
      "text/html": [
       "<div>\n",
       "<style scoped>\n",
       "    .dataframe tbody tr th:only-of-type {\n",
       "        vertical-align: middle;\n",
       "    }\n",
       "\n",
       "    .dataframe tbody tr th {\n",
       "        vertical-align: top;\n",
       "    }\n",
       "\n",
       "    .dataframe thead th {\n",
       "        text-align: right;\n",
       "    }\n",
       "</style>\n",
       "<table border=\"1\" class=\"dataframe\">\n",
       "  <thead>\n",
       "    <tr style=\"text-align: right;\">\n",
       "      <th></th>\n",
       "      <th>id</th>\n",
       "      <th>escolas_postos</th>\n",
       "      <th>bairro</th>\n",
       "      <th>endereco</th>\n",
       "      <th>lat</th>\n",
       "      <th>lon</th>\n",
       "      <th>logradouro</th>\n",
       "      <th>numero</th>\n",
       "    </tr>\n",
       "  </thead>\n",
       "  <tbody>\n",
       "    <tr>\n",
       "      <th>68</th>\n",
       "      <td>260</td>\n",
       "      <td>EM PROFESSOR JOSUE DE CASTRO</td>\n",
       "      <td>BONSUCESSO</td>\n",
       "      <td>AVENIDA BRASIL 4040 RUA DA VITORIA</td>\n",
       "      <td>-22.87374</td>\n",
       "      <td>-43.24071</td>\n",
       "      <td>RUA DA VITORIA</td>\n",
       "      <td>Não informado</td>\n",
       "    </tr>\n",
       "  </tbody>\n",
       "</table>\n",
       "</div>"
      ],
      "text/plain": [
       "     id                escolas_postos      bairro  \\\n",
       "68  260  EM PROFESSOR JOSUE DE CASTRO  BONSUCESSO   \n",
       "\n",
       "                              endereco       lat       lon       logradouro  \\\n",
       "68  AVENIDA BRASIL 4040 RUA DA VITORIA -22.87374 -43.24071   RUA DA VITORIA   \n",
       "\n",
       "           numero  \n",
       "68  Não informado  "
      ]
     },
     "execution_count": 235,
     "metadata": {},
     "output_type": "execute_result"
    }
   ],
   "source": [
    "# visualiza escola com endereço errado\n",
    "display(escolas_copy_6[escolas_copy_6['id'] == '260'])\n",
    "\n",
    "# conserta endereço errado do colégio (Modo 1)\n",
    "idx = escolas_copy_6.index[escolas_copy_6.id == '260']\n",
    "escolas_copy_6.loc[idx, 'logradouro'] = escolas_copy_6.loc[idx]['logradouro'].str.split(\"4040\").item()[1]\n",
    "escolas_copy_6.loc[idx]"
   ]
  },
  {
   "cell_type": "code",
   "execution_count": 236,
   "metadata": {},
   "outputs": [],
   "source": [
    "# # Modo 2\n",
    "# escolas_copy_6 = escolas_copy_6.loc[idx].assign(logradouro='RUA DA VITORIA')\n",
    "# escolas_copy_6"
   ]
  },
  {
   "attachments": {},
   "cell_type": "markdown",
   "metadata": {},
   "source": [
    "## Faltam os seguintes tratamentos:\n",
    "\n",
    "- tratar as linhas com mais de uma vírgula separando o número do endereço\n",
    "- separar logradouro e número do endereço em colunas distintas\n",
    "\n",
    "\n",
    "Saída esperada: \n",
    "\n",
    "    Arquivo csv contendo os dados no padrão especificado\n",
    "\n",
    "    As escolas ordenadas em que os materiais didáticos devem ser entregues e com as colunas contendo as colunas:\n",
    "````\n",
    "['id_da_escola', 'nome_da_escola', 'tipo_da_escola', 'logradouro', 'numero', 'bairro', 'subprefeitura', 'latitude', 'longitude', 'quantidade_de_material']\n",
    "````"
   ]
  },
  {
   "cell_type": "code",
   "execution_count": 237,
   "metadata": {},
   "outputs": [
    {
     "data": {
      "text/plain": [
       "{'CENTRO', 'CIEP', 'COLEGIO', 'E.M', 'E.M.', 'EM', 'EM.', 'ESCOLA'}"
      ]
     },
     "execution_count": 237,
     "metadata": {},
     "output_type": "execute_result"
    }
   ],
   "source": [
    "# listar tipos das escolas\n",
    "inicio = list()\n",
    "escolas_copy_7 = escolas_copy_6.copy()\n",
    "escolas_copy_7['escolas_postos'].apply(lambda x: inicio.append((x.split())[0]))\n",
    "set(inicio)"
   ]
  },
  {
   "cell_type": "code",
   "execution_count": 238,
   "metadata": {},
   "outputs": [
    {
     "data": {
      "text/html": [
       "<div>\n",
       "<style scoped>\n",
       "    .dataframe tbody tr th:only-of-type {\n",
       "        vertical-align: middle;\n",
       "    }\n",
       "\n",
       "    .dataframe tbody tr th {\n",
       "        vertical-align: top;\n",
       "    }\n",
       "\n",
       "    .dataframe thead th {\n",
       "        text-align: right;\n",
       "    }\n",
       "</style>\n",
       "<table border=\"1\" class=\"dataframe\">\n",
       "  <thead>\n",
       "    <tr style=\"text-align: right;\">\n",
       "      <th></th>\n",
       "      <th>id</th>\n",
       "      <th>escolas_postos</th>\n",
       "      <th>bairro</th>\n",
       "      <th>endereco</th>\n",
       "      <th>lat</th>\n",
       "      <th>lon</th>\n",
       "      <th>logradouro</th>\n",
       "      <th>numero</th>\n",
       "      <th>tipo_escola</th>\n",
       "    </tr>\n",
       "  </thead>\n",
       "  <tbody>\n",
       "    <tr>\n",
       "      <th>0</th>\n",
       "      <td>178</td>\n",
       "      <td>CENTRO INTEGRADO DE EDUCACAO PUBLICA HENFIL</td>\n",
       "      <td>CAJU</td>\n",
       "      <td>RUA CARLOS SEIDL , SN</td>\n",
       "      <td>-22.88089</td>\n",
       "      <td>-43.22533</td>\n",
       "      <td>RUA CARLOS SEIDL</td>\n",
       "      <td>SN</td>\n",
       "      <td>CIEP</td>\n",
       "    </tr>\n",
       "    <tr>\n",
       "      <th>1</th>\n",
       "      <td>634</td>\n",
       "      <td>EM ALICE DO AMARAL PEIXOTO</td>\n",
       "      <td>BENFICA</td>\n",
       "      <td>RUA EBANO , 187</td>\n",
       "      <td>-22.88957</td>\n",
       "      <td>-43.23620</td>\n",
       "      <td>RUA EBANO</td>\n",
       "      <td>187</td>\n",
       "      <td>EM</td>\n",
       "    </tr>\n",
       "    <tr>\n",
       "      <th>2</th>\n",
       "      <td>483</td>\n",
       "      <td>EM CELESTINO SILVA</td>\n",
       "      <td>CENTRO</td>\n",
       "      <td>RUA DO LAVRADIO,56</td>\n",
       "      <td>-22.90929</td>\n",
       "      <td>-43.18358</td>\n",
       "      <td>RUA DO LAVRADIO</td>\n",
       "      <td>56</td>\n",
       "      <td>EM</td>\n",
       "    </tr>\n",
       "    <tr>\n",
       "      <th>3</th>\n",
       "      <td>476</td>\n",
       "      <td>ESCOLA MUNICIPAL FLORIANO PEIXOTO</td>\n",
       "      <td>SAO CRISTOVAO</td>\n",
       "      <td>PRACA ARGENTINA , 20</td>\n",
       "      <td>-22.89763</td>\n",
       "      <td>-43.22746</td>\n",
       "      <td>PRACA ARGENTINA</td>\n",
       "      <td>20</td>\n",
       "      <td>EM</td>\n",
       "    </tr>\n",
       "    <tr>\n",
       "      <th>4</th>\n",
       "      <td>132</td>\n",
       "      <td>EM PEREIRA PASSOS</td>\n",
       "      <td>RIO COMPRIDO</td>\n",
       "      <td>PRACA CONDESSA PAULO DE FRONTIN , 45</td>\n",
       "      <td>-22.92441</td>\n",
       "      <td>-43.20858</td>\n",
       "      <td>PRACA CONDESSA PAULO DE FRONTIN</td>\n",
       "      <td>45</td>\n",
       "      <td>EM</td>\n",
       "    </tr>\n",
       "    <tr>\n",
       "      <th>...</th>\n",
       "      <td>...</td>\n",
       "      <td>...</td>\n",
       "      <td>...</td>\n",
       "      <td>...</td>\n",
       "      <td>...</td>\n",
       "      <td>...</td>\n",
       "      <td>...</td>\n",
       "      <td>...</td>\n",
       "      <td>...</td>\n",
       "    </tr>\n",
       "    <tr>\n",
       "      <th>147</th>\n",
       "      <td>474</td>\n",
       "      <td>EM ENGENHEIRO GASTAO RANGEL</td>\n",
       "      <td>GUARATIBA</td>\n",
       "      <td>ESTRADA DO MAGARCA , 9.183</td>\n",
       "      <td>-22.98046</td>\n",
       "      <td>-43.64355</td>\n",
       "      <td>ESTRADA DO MAGARCA</td>\n",
       "      <td>9.183</td>\n",
       "      <td>EM</td>\n",
       "    </tr>\n",
       "    <tr>\n",
       "      <th>148</th>\n",
       "      <td>301</td>\n",
       "      <td>EM JONATAS SERRANO</td>\n",
       "      <td>GUARATIBA</td>\n",
       "      <td>ESTRADA DO MATO ALTO,SN</td>\n",
       "      <td>-22.95316</td>\n",
       "      <td>-43.57741</td>\n",
       "      <td>ESTRADA DO MATO ALTO</td>\n",
       "      <td>SN</td>\n",
       "      <td>EM</td>\n",
       "    </tr>\n",
       "    <tr>\n",
       "      <th>149</th>\n",
       "      <td>215</td>\n",
       "      <td>E.M. NARCISA AMALIA</td>\n",
       "      <td>ILHA DE GUARATIBA</td>\n",
       "      <td>ESTRADA TEODORETO DE CAMARGO , SN</td>\n",
       "      <td>-23.00908</td>\n",
       "      <td>-43.53758</td>\n",
       "      <td>ESTRADA TEODORETO DE CAMARGO</td>\n",
       "      <td>SN</td>\n",
       "      <td>EM</td>\n",
       "    </tr>\n",
       "    <tr>\n",
       "      <th>150</th>\n",
       "      <td>606</td>\n",
       "      <td>EM PROFESSOR CASTILHO</td>\n",
       "      <td>ILHA DE GUARATIBA</td>\n",
       "      <td>CAMINHO DA MATRIZ , 4406</td>\n",
       "      <td>-22.99412</td>\n",
       "      <td>-43.59368</td>\n",
       "      <td>CAMINHO DA MATRIZ</td>\n",
       "      <td>4406</td>\n",
       "      <td>EM</td>\n",
       "    </tr>\n",
       "    <tr>\n",
       "      <th>151</th>\n",
       "      <td>069</td>\n",
       "      <td>ESCOLA MUNICIPAL CARDEAL ARCOVERDE</td>\n",
       "      <td>MADUREIRA</td>\n",
       "      <td>RUA AGOSTINHO BARBALHO , 401</td>\n",
       "      <td>-22.87608</td>\n",
       "      <td>-43.34337</td>\n",
       "      <td>RUA AGOSTINHO BARBALHO</td>\n",
       "      <td>401</td>\n",
       "      <td>EM</td>\n",
       "    </tr>\n",
       "  </tbody>\n",
       "</table>\n",
       "<p>152 rows × 9 columns</p>\n",
       "</div>"
      ],
      "text/plain": [
       "      id                               escolas_postos             bairro  \\\n",
       "0    178  CENTRO INTEGRADO DE EDUCACAO PUBLICA HENFIL               CAJU   \n",
       "1    634                   EM ALICE DO AMARAL PEIXOTO            BENFICA   \n",
       "2    483                           EM CELESTINO SILVA             CENTRO   \n",
       "3    476            ESCOLA MUNICIPAL FLORIANO PEIXOTO      SAO CRISTOVAO   \n",
       "4    132                            EM PEREIRA PASSOS       RIO COMPRIDO   \n",
       "..   ...                                          ...                ...   \n",
       "147  474                  EM ENGENHEIRO GASTAO RANGEL          GUARATIBA   \n",
       "148  301                           EM JONATAS SERRANO          GUARATIBA   \n",
       "149  215                          E.M. NARCISA AMALIA  ILHA DE GUARATIBA   \n",
       "150  606                        EM PROFESSOR CASTILHO  ILHA DE GUARATIBA   \n",
       "151  069           ESCOLA MUNICIPAL CARDEAL ARCOVERDE          MADUREIRA   \n",
       "\n",
       "                                 endereco       lat       lon  \\\n",
       "0                   RUA CARLOS SEIDL , SN -22.88089 -43.22533   \n",
       "1                         RUA EBANO , 187 -22.88957 -43.23620   \n",
       "2                      RUA DO LAVRADIO,56 -22.90929 -43.18358   \n",
       "3                    PRACA ARGENTINA , 20 -22.89763 -43.22746   \n",
       "4    PRACA CONDESSA PAULO DE FRONTIN , 45 -22.92441 -43.20858   \n",
       "..                                    ...       ...       ...   \n",
       "147            ESTRADA DO MAGARCA , 9.183 -22.98046 -43.64355   \n",
       "148               ESTRADA DO MATO ALTO,SN -22.95316 -43.57741   \n",
       "149     ESTRADA TEODORETO DE CAMARGO , SN -23.00908 -43.53758   \n",
       "150              CAMINHO DA MATRIZ , 4406 -22.99412 -43.59368   \n",
       "151          RUA AGOSTINHO BARBALHO , 401 -22.87608 -43.34337   \n",
       "\n",
       "                           logradouro  numero tipo_escola  \n",
       "0                   RUA CARLOS SEIDL       SN        CIEP  \n",
       "1                          RUA EBANO      187          EM  \n",
       "2                     RUA DO LAVRADIO      56          EM  \n",
       "3                    PRACA ARGENTINA       20          EM  \n",
       "4    PRACA CONDESSA PAULO DE FRONTIN       45          EM  \n",
       "..                                ...     ...         ...  \n",
       "147               ESTRADA DO MAGARCA    9.183          EM  \n",
       "148              ESTRADA DO MATO ALTO      SN          EM  \n",
       "149     ESTRADA TEODORETO DE CAMARGO       SN          EM  \n",
       "150                CAMINHO DA MATRIZ     4406          EM  \n",
       "151           RUA AGOSTINHO BARBALHO      401          EM  \n",
       "\n",
       "[152 rows x 9 columns]"
      ]
     },
     "execution_count": 238,
     "metadata": {},
     "output_type": "execute_result"
    }
   ],
   "source": [
    "# {'CENTRO', 'CIEP', 'COLEGIO', 'E.M', 'E.M.', 'EM', 'EM.', 'ESCOLA'}\n",
    "def mapear_tipo_escola(nome_da_escola: str):\n",
    "    if nome_da_escola.startswith((\"CIEP\", \"CENTRO\")):\n",
    "        return \"CIEP\"\n",
    "    elif nome_da_escola.replace(\".\", \"\").startswith((\"ESCOLA\", \"EM\")):\n",
    "        return \"EM\"\n",
    "    elif nome_da_escola.startswith(\"COLEGIO\"):\n",
    "        return \"COLEGIO\"\n",
    "    else:\n",
    "        return None # Caso padrão, ou seja, nenhum valor encontrado\n",
    "\n",
    "escolas_copy_7 = escolas_copy_6.copy()\n",
    "escolas_copy_7['tipo_escola'] = escolas_copy_7['escolas_postos'].apply(mapear_tipo_escola)\n",
    "escolas_copy_7"
   ]
  },
  {
   "cell_type": "code",
   "execution_count": 239,
   "metadata": {},
   "outputs": [
    {
     "name": "stdout",
     "output_type": "stream",
     "text": [
      "<class 'pandas.core.frame.DataFrame'>\n",
      "RangeIndex: 152 entries, 0 to 151\n",
      "Data columns (total 9 columns):\n",
      " #   Column          Non-Null Count  Dtype  \n",
      "---  ------          --------------  -----  \n",
      " 0   id              152 non-null    object \n",
      " 1   escolas_postos  152 non-null    object \n",
      " 2   bairro          152 non-null    object \n",
      " 3   endereco        152 non-null    object \n",
      " 4   lat             152 non-null    float64\n",
      " 5   lon             152 non-null    float64\n",
      " 6   logradouro      152 non-null    object \n",
      " 7   numero          152 non-null    object \n",
      " 8   tipo_escola     152 non-null    object \n",
      "dtypes: float64(2), object(7)\n",
      "memory usage: 10.8+ KB\n",
      "None\n"
     ]
    },
    {
     "data": {
      "text/html": [
       "<div>\n",
       "<style scoped>\n",
       "    .dataframe tbody tr th:only-of-type {\n",
       "        vertical-align: middle;\n",
       "    }\n",
       "\n",
       "    .dataframe tbody tr th {\n",
       "        vertical-align: top;\n",
       "    }\n",
       "\n",
       "    .dataframe thead th {\n",
       "        text-align: right;\n",
       "    }\n",
       "</style>\n",
       "<table border=\"1\" class=\"dataframe\">\n",
       "  <thead>\n",
       "    <tr style=\"text-align: right;\">\n",
       "      <th></th>\n",
       "      <th>tipo_escola</th>\n",
       "      <th>count</th>\n",
       "    </tr>\n",
       "  </thead>\n",
       "  <tbody>\n",
       "    <tr>\n",
       "      <th>0</th>\n",
       "      <td>EM</td>\n",
       "      <td>129</td>\n",
       "    </tr>\n",
       "    <tr>\n",
       "      <th>1</th>\n",
       "      <td>CIEP</td>\n",
       "      <td>22</td>\n",
       "    </tr>\n",
       "    <tr>\n",
       "      <th>2</th>\n",
       "      <td>COLEGIO</td>\n",
       "      <td>1</td>\n",
       "    </tr>\n",
       "  </tbody>\n",
       "</table>\n",
       "</div>"
      ],
      "text/plain": [
       "  tipo_escola  count\n",
       "0          EM    129\n",
       "1        CIEP     22\n",
       "2     COLEGIO      1"
      ]
     },
     "metadata": {},
     "output_type": "display_data"
    }
   ],
   "source": [
    "# valida tratamento para obter tipo da escola\n",
    "print(escolas_copy_7.info())\n",
    "display(escolas_copy_7['tipo_escola'].value_counts().reset_index())"
   ]
  },
  {
   "cell_type": "code",
   "execution_count": 240,
   "metadata": {},
   "outputs": [
    {
     "name": "stdout",
     "output_type": "stream",
     "text": [
      "<class 'pandas.core.frame.DataFrame'>\n",
      "RangeIndex: 152 entries, 0 to 151\n",
      "Data columns (total 9 columns):\n",
      " #   Column          Non-Null Count  Dtype  \n",
      "---  ------          --------------  -----  \n",
      " 0   id              152 non-null    int64  \n",
      " 1   escolas_postos  152 non-null    object \n",
      " 2   bairro          152 non-null    object \n",
      " 3   endereco        152 non-null    object \n",
      " 4   lat             152 non-null    float64\n",
      " 5   lon             152 non-null    float64\n",
      " 6   logradouro      152 non-null    object \n",
      " 7   numero          152 non-null    object \n",
      " 8   tipo_escola     152 non-null    object \n",
      "dtypes: float64(2), int64(1), object(6)\n",
      "memory usage: 10.8+ KB\n"
     ]
    }
   ],
   "source": [
    "# converte coluna id do tipo str para int\n",
    "escolas_copy_7['id'] = escolas_copy_7['id'].astype(int)\n",
    "escolas_copy_7.info()"
   ]
  },
  {
   "cell_type": "code",
   "execution_count": 241,
   "metadata": {},
   "outputs": [
    {
     "ename": "MergeError",
     "evalue": "No common columns to perform merge on. Merge options: left_on=None, right_on=None, left_index=False, right_index=False",
     "output_type": "error",
     "traceback": [
      "\u001b[0;31m---------------------------------------------------------------------------\u001b[0m",
      "\u001b[0;31mMergeError\u001b[0m                                Traceback (most recent call last)",
      "\u001b[1;32m/home/hugopedragonalves/Desktop/Anos/2023/PC_pessoal/Estudos/Santander_Coders/aulas/3_tec_programacao/proj_final/proj_final.ipynb Célula 61\u001b[0m in \u001b[0;36m<cell line: 4>\u001b[0;34m()\u001b[0m\n\u001b[1;32m      <a href='vscode-notebook-cell:/home/hugopedragonalves/Desktop/Anos/2023/PC_pessoal/Estudos/Santander_Coders/aulas/3_tec_programacao/proj_final/proj_final.ipynb#Y144sZmlsZQ%3D%3D?line=1'>2</a>\u001b[0m escolas_copy_8 \u001b[39m=\u001b[39m escolas_copy_7\u001b[39m.\u001b[39mcopy()\n\u001b[1;32m      <a href='vscode-notebook-cell:/home/hugopedragonalves/Desktop/Anos/2023/PC_pessoal/Estudos/Santander_Coders/aulas/3_tec_programacao/proj_final/proj_final.ipynb#Y144sZmlsZQ%3D%3D?line=2'>3</a>\u001b[0m escolas_copy_8 \u001b[39m=\u001b[39m escolas_copy_8\u001b[39m.\u001b[39mmerge(material_didatico_copy_2, how\u001b[39m=\u001b[39m\u001b[39m'\u001b[39m\u001b[39minner\u001b[39m\u001b[39m'\u001b[39m)\n\u001b[0;32m----> <a href='vscode-notebook-cell:/home/hugopedragonalves/Desktop/Anos/2023/PC_pessoal/Estudos/Santander_Coders/aulas/3_tec_programacao/proj_final/proj_final.ipynb#Y144sZmlsZQ%3D%3D?line=3'>4</a>\u001b[0m escolas_copy_8 \u001b[39m=\u001b[39m escolas_copy_8\u001b[39m.\u001b[39;49mmerge(subprefeituras_copy_2, how\u001b[39m=\u001b[39;49m\u001b[39m'\u001b[39;49m\u001b[39minner\u001b[39;49m\u001b[39m'\u001b[39;49m)\n\u001b[1;32m      <a href='vscode-notebook-cell:/home/hugopedragonalves/Desktop/Anos/2023/PC_pessoal/Estudos/Santander_Coders/aulas/3_tec_programacao/proj_final/proj_final.ipynb#Y144sZmlsZQ%3D%3D?line=4'>5</a>\u001b[0m escolas_copy_8\n",
      "File \u001b[0;32m~/.local/lib/python3.10/site-packages/pandas/core/frame.py:9843\u001b[0m, in \u001b[0;36mDataFrame.merge\u001b[0;34m(self, right, how, on, left_on, right_on, left_index, right_index, sort, suffixes, copy, indicator, validate)\u001b[0m\n\u001b[1;32m   9824\u001b[0m \u001b[39m@Substitution\u001b[39m(\u001b[39m\"\u001b[39m\u001b[39m\"\u001b[39m)\n\u001b[1;32m   9825\u001b[0m \u001b[39m@Appender\u001b[39m(_merge_doc, indents\u001b[39m=\u001b[39m\u001b[39m2\u001b[39m)\n\u001b[1;32m   9826\u001b[0m \u001b[39mdef\u001b[39;00m \u001b[39mmerge\u001b[39m(\n\u001b[0;32m   (...)\u001b[0m\n\u001b[1;32m   9839\u001b[0m     validate: \u001b[39mstr\u001b[39m \u001b[39m|\u001b[39m \u001b[39mNone\u001b[39;00m \u001b[39m=\u001b[39m \u001b[39mNone\u001b[39;00m,\n\u001b[1;32m   9840\u001b[0m ) \u001b[39m-\u001b[39m\u001b[39m>\u001b[39m DataFrame:\n\u001b[1;32m   9841\u001b[0m     \u001b[39mfrom\u001b[39;00m \u001b[39mpandas\u001b[39;00m\u001b[39m.\u001b[39;00m\u001b[39mcore\u001b[39;00m\u001b[39m.\u001b[39;00m\u001b[39mreshape\u001b[39;00m\u001b[39m.\u001b[39;00m\u001b[39mmerge\u001b[39;00m \u001b[39mimport\u001b[39;00m merge\n\u001b[0;32m-> 9843\u001b[0m     \u001b[39mreturn\u001b[39;00m merge(\n\u001b[1;32m   9844\u001b[0m         \u001b[39mself\u001b[39;49m,\n\u001b[1;32m   9845\u001b[0m         right,\n\u001b[1;32m   9846\u001b[0m         how\u001b[39m=\u001b[39;49mhow,\n\u001b[1;32m   9847\u001b[0m         on\u001b[39m=\u001b[39;49mon,\n\u001b[1;32m   9848\u001b[0m         left_on\u001b[39m=\u001b[39;49mleft_on,\n\u001b[1;32m   9849\u001b[0m         right_on\u001b[39m=\u001b[39;49mright_on,\n\u001b[1;32m   9850\u001b[0m         left_index\u001b[39m=\u001b[39;49mleft_index,\n\u001b[1;32m   9851\u001b[0m         right_index\u001b[39m=\u001b[39;49mright_index,\n\u001b[1;32m   9852\u001b[0m         sort\u001b[39m=\u001b[39;49msort,\n\u001b[1;32m   9853\u001b[0m         suffixes\u001b[39m=\u001b[39;49msuffixes,\n\u001b[1;32m   9854\u001b[0m         copy\u001b[39m=\u001b[39;49mcopy,\n\u001b[1;32m   9855\u001b[0m         indicator\u001b[39m=\u001b[39;49mindicator,\n\u001b[1;32m   9856\u001b[0m         validate\u001b[39m=\u001b[39;49mvalidate,\n\u001b[1;32m   9857\u001b[0m     )\n",
      "File \u001b[0;32m~/.local/lib/python3.10/site-packages/pandas/core/reshape/merge.py:148\u001b[0m, in \u001b[0;36mmerge\u001b[0;34m(left, right, how, on, left_on, right_on, left_index, right_index, sort, suffixes, copy, indicator, validate)\u001b[0m\n\u001b[1;32m    131\u001b[0m \u001b[39m@Substitution\u001b[39m(\u001b[39m\"\u001b[39m\u001b[39m\\n\u001b[39;00m\u001b[39mleft : DataFrame or named Series\u001b[39m\u001b[39m\"\u001b[39m)\n\u001b[1;32m    132\u001b[0m \u001b[39m@Appender\u001b[39m(_merge_doc, indents\u001b[39m=\u001b[39m\u001b[39m0\u001b[39m)\n\u001b[1;32m    133\u001b[0m \u001b[39mdef\u001b[39;00m \u001b[39mmerge\u001b[39m(\n\u001b[0;32m   (...)\u001b[0m\n\u001b[1;32m    146\u001b[0m     validate: \u001b[39mstr\u001b[39m \u001b[39m|\u001b[39m \u001b[39mNone\u001b[39;00m \u001b[39m=\u001b[39m \u001b[39mNone\u001b[39;00m,\n\u001b[1;32m    147\u001b[0m ) \u001b[39m-\u001b[39m\u001b[39m>\u001b[39m DataFrame:\n\u001b[0;32m--> 148\u001b[0m     op \u001b[39m=\u001b[39m _MergeOperation(\n\u001b[1;32m    149\u001b[0m         left,\n\u001b[1;32m    150\u001b[0m         right,\n\u001b[1;32m    151\u001b[0m         how\u001b[39m=\u001b[39;49mhow,\n\u001b[1;32m    152\u001b[0m         on\u001b[39m=\u001b[39;49mon,\n\u001b[1;32m    153\u001b[0m         left_on\u001b[39m=\u001b[39;49mleft_on,\n\u001b[1;32m    154\u001b[0m         right_on\u001b[39m=\u001b[39;49mright_on,\n\u001b[1;32m    155\u001b[0m         left_index\u001b[39m=\u001b[39;49mleft_index,\n\u001b[1;32m    156\u001b[0m         right_index\u001b[39m=\u001b[39;49mright_index,\n\u001b[1;32m    157\u001b[0m         sort\u001b[39m=\u001b[39;49msort,\n\u001b[1;32m    158\u001b[0m         suffixes\u001b[39m=\u001b[39;49msuffixes,\n\u001b[1;32m    159\u001b[0m         indicator\u001b[39m=\u001b[39;49mindicator,\n\u001b[1;32m    160\u001b[0m         validate\u001b[39m=\u001b[39;49mvalidate,\n\u001b[1;32m    161\u001b[0m     )\n\u001b[1;32m    162\u001b[0m     \u001b[39mreturn\u001b[39;00m op\u001b[39m.\u001b[39mget_result(copy\u001b[39m=\u001b[39mcopy)\n",
      "File \u001b[0;32m~/.local/lib/python3.10/site-packages/pandas/core/reshape/merge.py:719\u001b[0m, in \u001b[0;36m_MergeOperation.__init__\u001b[0;34m(self, left, right, how, on, left_on, right_on, axis, left_index, right_index, sort, suffixes, indicator, validate)\u001b[0m\n\u001b[1;32m    712\u001b[0m     msg \u001b[39m=\u001b[39m (\n\u001b[1;32m    713\u001b[0m         \u001b[39m\"\u001b[39m\u001b[39mNot allowed to merge between different levels. \u001b[39m\u001b[39m\"\u001b[39m\n\u001b[1;32m    714\u001b[0m         \u001b[39mf\u001b[39m\u001b[39m\"\u001b[39m\u001b[39m(\u001b[39m\u001b[39m{\u001b[39;00m_left\u001b[39m.\u001b[39mcolumns\u001b[39m.\u001b[39mnlevels\u001b[39m}\u001b[39;00m\u001b[39m levels on the left, \u001b[39m\u001b[39m\"\u001b[39m\n\u001b[1;32m    715\u001b[0m         \u001b[39mf\u001b[39m\u001b[39m\"\u001b[39m\u001b[39m{\u001b[39;00m_right\u001b[39m.\u001b[39mcolumns\u001b[39m.\u001b[39mnlevels\u001b[39m}\u001b[39;00m\u001b[39m on the right)\u001b[39m\u001b[39m\"\u001b[39m\n\u001b[1;32m    716\u001b[0m     )\n\u001b[1;32m    717\u001b[0m     \u001b[39mraise\u001b[39;00m MergeError(msg)\n\u001b[0;32m--> 719\u001b[0m \u001b[39mself\u001b[39m\u001b[39m.\u001b[39mleft_on, \u001b[39mself\u001b[39m\u001b[39m.\u001b[39mright_on \u001b[39m=\u001b[39m \u001b[39mself\u001b[39;49m\u001b[39m.\u001b[39;49m_validate_left_right_on(left_on, right_on)\n\u001b[1;32m    721\u001b[0m cross_col \u001b[39m=\u001b[39m \u001b[39mNone\u001b[39;00m\n\u001b[1;32m    722\u001b[0m \u001b[39mif\u001b[39;00m \u001b[39mself\u001b[39m\u001b[39m.\u001b[39mhow \u001b[39m==\u001b[39m \u001b[39m\"\u001b[39m\u001b[39mcross\u001b[39m\u001b[39m\"\u001b[39m:\n",
      "File \u001b[0;32m~/.local/lib/python3.10/site-packages/pandas/core/reshape/merge.py:1500\u001b[0m, in \u001b[0;36m_MergeOperation._validate_left_right_on\u001b[0;34m(self, left_on, right_on)\u001b[0m\n\u001b[1;32m   1498\u001b[0m common_cols \u001b[39m=\u001b[39m left_cols\u001b[39m.\u001b[39mintersection(right_cols)\n\u001b[1;32m   1499\u001b[0m \u001b[39mif\u001b[39;00m \u001b[39mlen\u001b[39m(common_cols) \u001b[39m==\u001b[39m \u001b[39m0\u001b[39m:\n\u001b[0;32m-> 1500\u001b[0m     \u001b[39mraise\u001b[39;00m MergeError(\n\u001b[1;32m   1501\u001b[0m         \u001b[39m\"\u001b[39m\u001b[39mNo common columns to perform merge on. \u001b[39m\u001b[39m\"\u001b[39m\n\u001b[1;32m   1502\u001b[0m         \u001b[39mf\u001b[39m\u001b[39m\"\u001b[39m\u001b[39mMerge options: left_on=\u001b[39m\u001b[39m{\u001b[39;00mleft_on\u001b[39m}\u001b[39;00m\u001b[39m, \u001b[39m\u001b[39m\"\u001b[39m\n\u001b[1;32m   1503\u001b[0m         \u001b[39mf\u001b[39m\u001b[39m\"\u001b[39m\u001b[39mright_on=\u001b[39m\u001b[39m{\u001b[39;00mright_on\u001b[39m}\u001b[39;00m\u001b[39m, \u001b[39m\u001b[39m\"\u001b[39m\n\u001b[1;32m   1504\u001b[0m         \u001b[39mf\u001b[39m\u001b[39m\"\u001b[39m\u001b[39mleft_index=\u001b[39m\u001b[39m{\u001b[39;00m\u001b[39mself\u001b[39m\u001b[39m.\u001b[39mleft_index\u001b[39m}\u001b[39;00m\u001b[39m, \u001b[39m\u001b[39m\"\u001b[39m\n\u001b[1;32m   1505\u001b[0m         \u001b[39mf\u001b[39m\u001b[39m\"\u001b[39m\u001b[39mright_index=\u001b[39m\u001b[39m{\u001b[39;00m\u001b[39mself\u001b[39m\u001b[39m.\u001b[39mright_index\u001b[39m}\u001b[39;00m\u001b[39m\"\u001b[39m\n\u001b[1;32m   1506\u001b[0m     )\n\u001b[1;32m   1507\u001b[0m \u001b[39mif\u001b[39;00m (\n\u001b[1;32m   1508\u001b[0m     \u001b[39mnot\u001b[39;00m left_cols\u001b[39m.\u001b[39mjoin(common_cols, how\u001b[39m=\u001b[39m\u001b[39m\"\u001b[39m\u001b[39minner\u001b[39m\u001b[39m\"\u001b[39m)\u001b[39m.\u001b[39mis_unique\n\u001b[1;32m   1509\u001b[0m     \u001b[39mor\u001b[39;00m \u001b[39mnot\u001b[39;00m right_cols\u001b[39m.\u001b[39mjoin(common_cols, how\u001b[39m=\u001b[39m\u001b[39m\"\u001b[39m\u001b[39minner\u001b[39m\u001b[39m\"\u001b[39m)\u001b[39m.\u001b[39mis_unique\n\u001b[1;32m   1510\u001b[0m ):\n\u001b[1;32m   1511\u001b[0m     \u001b[39mraise\u001b[39;00m MergeError(\u001b[39mf\u001b[39m\u001b[39m\"\u001b[39m\u001b[39mData columns not unique: \u001b[39m\u001b[39m{\u001b[39;00m\u001b[39mrepr\u001b[39m(common_cols)\u001b[39m}\u001b[39;00m\u001b[39m\"\u001b[39m)\n",
      "\u001b[0;31mMergeError\u001b[0m: No common columns to perform merge on. Merge options: left_on=None, right_on=None, left_index=False, right_index=False"
     ]
    }
   ],
   "source": [
    "# aplica merge entre as tabelas\n",
    "escolas_copy_8 = escolas_copy_7.copy()\n",
    "escolas_copy_8 = escolas_copy_8.merge(material_didatico_copy_2, how='inner')\n",
    "escolas_copy_8"
   ]
  },
  {
   "cell_type": "code",
   "execution_count": 242,
   "metadata": {},
   "outputs": [
    {
     "data": {
      "text/html": [
       "<div>\n",
       "<style scoped>\n",
       "    .dataframe tbody tr th:only-of-type {\n",
       "        vertical-align: middle;\n",
       "    }\n",
       "\n",
       "    .dataframe tbody tr th {\n",
       "        vertical-align: top;\n",
       "    }\n",
       "\n",
       "    .dataframe thead th {\n",
       "        text-align: right;\n",
       "    }\n",
       "</style>\n",
       "<table border=\"1\" class=\"dataframe\">\n",
       "  <thead>\n",
       "    <tr style=\"text-align: right;\">\n",
       "      <th></th>\n",
       "      <th>id</th>\n",
       "      <th>escolas_postos</th>\n",
       "      <th>bairro</th>\n",
       "      <th>endereco</th>\n",
       "      <th>lat</th>\n",
       "      <th>lon</th>\n",
       "      <th>logradouro</th>\n",
       "      <th>numero</th>\n",
       "      <th>tipo_escola</th>\n",
       "      <th>quantidade</th>\n",
       "    </tr>\n",
       "  </thead>\n",
       "  <tbody>\n",
       "    <tr>\n",
       "      <th>0</th>\n",
       "      <td>178</td>\n",
       "      <td>CENTRO INTEGRADO DE EDUCACAO PUBLICA HENFIL</td>\n",
       "      <td>CAJU</td>\n",
       "      <td>RUA CARLOS SEIDL , SN</td>\n",
       "      <td>-22.88089</td>\n",
       "      <td>-43.22533</td>\n",
       "      <td>RUA CARLOS SEIDL</td>\n",
       "      <td>SN</td>\n",
       "      <td>CIEP</td>\n",
       "      <td>20</td>\n",
       "    </tr>\n",
       "    <tr>\n",
       "      <th>1</th>\n",
       "      <td>634</td>\n",
       "      <td>EM ALICE DO AMARAL PEIXOTO</td>\n",
       "      <td>BENFICA</td>\n",
       "      <td>RUA EBANO , 187</td>\n",
       "      <td>-22.88957</td>\n",
       "      <td>-43.23620</td>\n",
       "      <td>RUA EBANO</td>\n",
       "      <td>187</td>\n",
       "      <td>EM</td>\n",
       "      <td>121</td>\n",
       "    </tr>\n",
       "    <tr>\n",
       "      <th>2</th>\n",
       "      <td>483</td>\n",
       "      <td>EM CELESTINO SILVA</td>\n",
       "      <td>CENTRO</td>\n",
       "      <td>RUA DO LAVRADIO,56</td>\n",
       "      <td>-22.90929</td>\n",
       "      <td>-43.18358</td>\n",
       "      <td>RUA DO LAVRADIO</td>\n",
       "      <td>56</td>\n",
       "      <td>EM</td>\n",
       "      <td>220</td>\n",
       "    </tr>\n",
       "    <tr>\n",
       "      <th>3</th>\n",
       "      <td>476</td>\n",
       "      <td>ESCOLA MUNICIPAL FLORIANO PEIXOTO</td>\n",
       "      <td>SAO CRISTOVAO</td>\n",
       "      <td>PRACA ARGENTINA , 20</td>\n",
       "      <td>-22.89763</td>\n",
       "      <td>-43.22746</td>\n",
       "      <td>PRACA ARGENTINA</td>\n",
       "      <td>20</td>\n",
       "      <td>EM</td>\n",
       "      <td>190</td>\n",
       "    </tr>\n",
       "    <tr>\n",
       "      <th>4</th>\n",
       "      <td>132</td>\n",
       "      <td>EM PEREIRA PASSOS</td>\n",
       "      <td>RIO COMPRIDO</td>\n",
       "      <td>PRACA CONDESSA PAULO DE FRONTIN , 45</td>\n",
       "      <td>-22.92441</td>\n",
       "      <td>-43.20858</td>\n",
       "      <td>PRACA CONDESSA PAULO DE FRONTIN</td>\n",
       "      <td>45</td>\n",
       "      <td>EM</td>\n",
       "      <td>67</td>\n",
       "    </tr>\n",
       "    <tr>\n",
       "      <th>...</th>\n",
       "      <td>...</td>\n",
       "      <td>...</td>\n",
       "      <td>...</td>\n",
       "      <td>...</td>\n",
       "      <td>...</td>\n",
       "      <td>...</td>\n",
       "      <td>...</td>\n",
       "      <td>...</td>\n",
       "      <td>...</td>\n",
       "      <td>...</td>\n",
       "    </tr>\n",
       "    <tr>\n",
       "      <th>147</th>\n",
       "      <td>210</td>\n",
       "      <td>EM DEBORA MENDES DE MORAES</td>\n",
       "      <td>PEDRA DE GUARATIBA</td>\n",
       "      <td>RUA BELCHIOR DA FONSECA , 643</td>\n",
       "      <td>-23.00142</td>\n",
       "      <td>-43.63876</td>\n",
       "      <td>RUA BELCHIOR DA FONSECA</td>\n",
       "      <td>643</td>\n",
       "      <td>EM</td>\n",
       "      <td>570</td>\n",
       "    </tr>\n",
       "    <tr>\n",
       "      <th>148</th>\n",
       "      <td>474</td>\n",
       "      <td>EM ENGENHEIRO GASTAO RANGEL</td>\n",
       "      <td>GUARATIBA</td>\n",
       "      <td>ESTRADA DO MAGARCA , 9.183</td>\n",
       "      <td>-22.98046</td>\n",
       "      <td>-43.64355</td>\n",
       "      <td>ESTRADA DO MAGARCA</td>\n",
       "      <td>9.183</td>\n",
       "      <td>EM</td>\n",
       "      <td>320</td>\n",
       "    </tr>\n",
       "    <tr>\n",
       "      <th>149</th>\n",
       "      <td>301</td>\n",
       "      <td>EM JONATAS SERRANO</td>\n",
       "      <td>GUARATIBA</td>\n",
       "      <td>ESTRADA DO MATO ALTO,SN</td>\n",
       "      <td>-22.95316</td>\n",
       "      <td>-43.57741</td>\n",
       "      <td>ESTRADA DO MATO ALTO</td>\n",
       "      <td>SN</td>\n",
       "      <td>EM</td>\n",
       "      <td>335</td>\n",
       "    </tr>\n",
       "    <tr>\n",
       "      <th>150</th>\n",
       "      <td>215</td>\n",
       "      <td>E.M. NARCISA AMALIA</td>\n",
       "      <td>ILHA DE GUARATIBA</td>\n",
       "      <td>ESTRADA TEODORETO DE CAMARGO , SN</td>\n",
       "      <td>-23.00908</td>\n",
       "      <td>-43.53758</td>\n",
       "      <td>ESTRADA TEODORETO DE CAMARGO</td>\n",
       "      <td>SN</td>\n",
       "      <td>EM</td>\n",
       "      <td>0</td>\n",
       "    </tr>\n",
       "    <tr>\n",
       "      <th>151</th>\n",
       "      <td>606</td>\n",
       "      <td>EM PROFESSOR CASTILHO</td>\n",
       "      <td>ILHA DE GUARATIBA</td>\n",
       "      <td>CAMINHO DA MATRIZ , 4406</td>\n",
       "      <td>-22.99412</td>\n",
       "      <td>-43.59368</td>\n",
       "      <td>CAMINHO DA MATRIZ</td>\n",
       "      <td>4406</td>\n",
       "      <td>EM</td>\n",
       "      <td>521</td>\n",
       "    </tr>\n",
       "  </tbody>\n",
       "</table>\n",
       "<p>152 rows × 10 columns</p>\n",
       "</div>"
      ],
      "text/plain": [
       "      id                               escolas_postos              bairro  \\\n",
       "0    178  CENTRO INTEGRADO DE EDUCACAO PUBLICA HENFIL                CAJU   \n",
       "1    634                   EM ALICE DO AMARAL PEIXOTO             BENFICA   \n",
       "2    483                           EM CELESTINO SILVA              CENTRO   \n",
       "3    476            ESCOLA MUNICIPAL FLORIANO PEIXOTO       SAO CRISTOVAO   \n",
       "4    132                            EM PEREIRA PASSOS        RIO COMPRIDO   \n",
       "..   ...                                          ...                 ...   \n",
       "147  210                   EM DEBORA MENDES DE MORAES  PEDRA DE GUARATIBA   \n",
       "148  474                  EM ENGENHEIRO GASTAO RANGEL           GUARATIBA   \n",
       "149  301                           EM JONATAS SERRANO           GUARATIBA   \n",
       "150  215                          E.M. NARCISA AMALIA   ILHA DE GUARATIBA   \n",
       "151  606                        EM PROFESSOR CASTILHO   ILHA DE GUARATIBA   \n",
       "\n",
       "                                 endereco       lat       lon  \\\n",
       "0                   RUA CARLOS SEIDL , SN -22.88089 -43.22533   \n",
       "1                         RUA EBANO , 187 -22.88957 -43.23620   \n",
       "2                      RUA DO LAVRADIO,56 -22.90929 -43.18358   \n",
       "3                    PRACA ARGENTINA , 20 -22.89763 -43.22746   \n",
       "4    PRACA CONDESSA PAULO DE FRONTIN , 45 -22.92441 -43.20858   \n",
       "..                                    ...       ...       ...   \n",
       "147         RUA BELCHIOR DA FONSECA , 643 -23.00142 -43.63876   \n",
       "148            ESTRADA DO MAGARCA , 9.183 -22.98046 -43.64355   \n",
       "149               ESTRADA DO MATO ALTO,SN -22.95316 -43.57741   \n",
       "150     ESTRADA TEODORETO DE CAMARGO , SN -23.00908 -43.53758   \n",
       "151              CAMINHO DA MATRIZ , 4406 -22.99412 -43.59368   \n",
       "\n",
       "                           logradouro  numero tipo_escola  quantidade  \n",
       "0                   RUA CARLOS SEIDL       SN        CIEP          20  \n",
       "1                          RUA EBANO      187          EM         121  \n",
       "2                     RUA DO LAVRADIO      56          EM         220  \n",
       "3                    PRACA ARGENTINA       20          EM         190  \n",
       "4    PRACA CONDESSA PAULO DE FRONTIN       45          EM          67  \n",
       "..                                ...     ...         ...         ...  \n",
       "147          RUA BELCHIOR DA FONSECA      643          EM         570  \n",
       "148               ESTRADA DO MAGARCA    9.183          EM         320  \n",
       "149              ESTRADA DO MATO ALTO      SN          EM         335  \n",
       "150     ESTRADA TEODORETO DE CAMARGO       SN          EM           0  \n",
       "151                CAMINHO DA MATRIZ     4406          EM         521  \n",
       "\n",
       "[152 rows x 10 columns]"
      ]
     },
     "execution_count": 242,
     "metadata": {},
     "output_type": "execute_result"
    }
   ],
   "source": [
    "escolas_copy_8"
   ]
  },
  {
   "cell_type": "code",
   "execution_count": null,
   "metadata": {},
   "outputs": [],
   "source": [
    "escolas_copy_8 = escolas_copy_8.merge(subprefeituras_copy_2, how='inner')\n",
    "escolas_copy_8"
   ]
  },
  {
   "cell_type": "code",
   "execution_count": 41,
   "metadata": {},
   "outputs": [],
   "source": [
    "colunas=['id_da_escola', 'nome_da_escola', 'tipo_da_escola', 'logradouro', 'numero', 'bairro', 'subprefeitura', 'latitude', 'longitude', 'quantidade_de_material']\n",
    "df_final=pd.DataFrame(columns=colunas)"
   ]
  },
  {
   "cell_type": "code",
   "execution_count": 52,
   "metadata": {},
   "outputs": [],
   "source": [
    "df_final['id_da_escola']=escolas_copy_7['id']\n",
    "df_final['nome_da_escola']=escolas_copy_7['escolas_postos']\n",
    "df_final['tipo_da_escola']=escolas_copy_7['tipo_escola']\n",
    "df_final['logradouro']=escolas_copy_7['logradouro']\n",
    "df_final['numero']=escolas_copy_7['numero']\n",
    "df_final['bairro']=escolas_copy_7['bairro']\n",
    "df_final['subprefeitura']=\"\"\n",
    "df_final['latitude']=escolas_copy_7['lat']\n",
    "df_final['longitude']=escolas_copy_7['lon']\n",
    "df_final['quantidade_de_material']=\"\"\n",
    "df_final['tipo_escola'] = df_final['nome_da_escola'].apply(mapear_tipo_escola)"
   ]
  },
  {
   "cell_type": "code",
   "execution_count": 54,
   "metadata": {},
   "outputs": [
    {
     "data": {
      "text/plain": [
       "array(['CIEP', None, 'EM'], dtype=object)"
      ]
     },
     "execution_count": 54,
     "metadata": {},
     "output_type": "execute_result"
    }
   ],
   "source": [
    "df_final['tipo_escola'].unique()"
   ]
  },
  {
   "cell_type": "code",
   "execution_count": 46,
   "metadata": {},
   "outputs": [],
   "source": [
    "subdata=df_final[['id_da_escola','nome_da_escola']]"
   ]
  },
  {
   "cell_type": "markdown",
   "metadata": {},
   "source": [
    "um arquivo csv no as linhas já estarão ordenas de acordo com a rota a ser seguida. Além disso, os dados devem estar no padrão especificado abaixo e contendo as seguintes colunas: id da escola, nome da escola, tipo da escola (EM, CIEP ou colégio), logradouro da entrega, número, bairro, subprefeitura, latitude, longitude e quantidade de material didático que deve ser entregue. O logradouro da escola deve estar em uma coluna diferente do número;\n",
    "````\n",
    "CIEP - CENTRO INTEGRADO DE EDUCACAO PUBLICA\n",
    "EM - ESCOLA MUNICIPAL\n",
    "COLÉGIO - COLÉGIO\n",
    "`````\n",
    "\n",
    "\n",
    "\n",
    "um arquivo csv com a quantidade total de material escolar por subprefeitura para que sejam contabilizados os custos por subprefeitura"
   ]
  },
  {
   "cell_type": "code",
   "execution_count": 49,
   "metadata": {},
   "outputs": [
    {
     "name": "stdout",
     "output_type": "stream",
     "text": [
      "    id_da_escola                               nome_da_escola\n",
      "125          320  COLEGIO MUNICIPAL PRESIDENTE ANTONIO CARLOS\n"
     ]
    }
   ],
   "source": [
    "# Use str.contains() para encontrar as linhas com 'colegio'\n",
    "subdata[subdata['nome_da_escola'].str.contains('colegio', case=False)]\n",
    "\n",
    "# Exiba as linhas encontradas\n",
    "print(linhas_com_colegio)\n"
   ]
  }
 ],
 "metadata": {
  "kernelspec": {
   "display_name": "Python 3 (ipykernel)",
   "language": "python",
   "name": "python3"
  },
  "language_info": {
   "codemirror_mode": {
    "name": "ipython",
    "version": 3
   },
   "file_extension": ".py",
   "mimetype": "text/x-python",
   "name": "python",
   "nbconvert_exporter": "python",
   "pygments_lexer": "ipython3",
   "version": "3.10.12"
  }
 },
 "nbformat": 4,
 "nbformat_minor": 4
}
