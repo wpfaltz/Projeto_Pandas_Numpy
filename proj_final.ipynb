{
 "cells": [
  {
   "cell_type": "markdown",
   "metadata": {},
   "source": [
    "# Analisando os dados disponibilizados"
   ]
  },
  {
   "cell_type": "markdown",
   "metadata": {},
   "source": [
    "### 1) Importar bibliotecas"
   ]
  },
  {
   "cell_type": "code",
   "execution_count": null,
   "metadata": {},
   "outputs": [],
   "source": [
    "import pandas as pd\n",
    "from unidecode import unidecode\n",
    "import numpy as np"
   ]
  },
  {
   "cell_type": "markdown",
   "metadata": {},
   "source": [
    "### 2) Ler dados brutos"
   ]
  },
  {
   "cell_type": "code",
   "execution_count": null,
   "metadata": {},
   "outputs": [],
   "source": [
    "escolas = pd.read_csv(\"dados_brutos/escolas.csv\")\n",
    "\n",
    "material_didatico = pd.read_csv(\"dados_brutos/material_didatico.csv\")\n",
    "\n",
    "subprefeituras = pd.read_csv(\"dados_brutos/subprefeituras.csv\")"
   ]
  },
  {
   "cell_type": "markdown",
   "metadata": {},
   "source": [
    "### 3) Criar cópias dos DFs"
   ]
  },
  {
   "cell_type": "code",
   "execution_count": null,
   "metadata": {},
   "outputs": [],
   "source": [
    "subprefeituras_copia = subprefeituras.copy()"
   ]
  },
  {
   "cell_type": "code",
   "execution_count": null,
   "metadata": {},
   "outputs": [],
   "source": [
    "material_didatico_copia = material_didatico.copy()"
   ]
  },
  {
   "cell_type": "code",
   "execution_count": null,
   "metadata": {},
   "outputs": [],
   "source": [
    "escolas_copia = escolas.copy()"
   ]
  },
  {
   "cell_type": "markdown",
   "metadata": {},
   "source": [
    "### 4) Tratamento dos DFs"
   ]
  },
  {
   "cell_type": "markdown",
   "metadata": {},
   "source": [
    "#### 4.1) Tratamento geral (explícito no arquivo .md)"
   ]
  },
  {
   "cell_type": "markdown",
   "metadata": {},
   "source": [
    "1) aplicar lower para todas as colunas\n",
    "2) nome das colunas em snake_case\n",
    "3) strings não devem conter acentos\n",
    "4) todas as strings devem estar em maiúsculo"
   ]
  },
  {
   "cell_type": "code",
   "execution_count": null,
   "metadata": {},
   "outputs": [],
   "source": [
    "def renomear_colunas(df):\n",
    "    new_columns = {col: unidecode(col.lower().strip()) for col in df.columns}\n",
    "    df.rename(columns=new_columns, inplace=True)\n",
    "    for col in df.columns:\n",
    "        df[col] = df[col].apply(lambda x: unidecode(str(x)).upper()) if df[col].dtypes == 'object' else df[col]"
   ]
  },
  {
   "cell_type": "code",
   "execution_count": null,
   "metadata": {},
   "outputs": [],
   "source": [
    "# lista dfs\n",
    "dfs = [escolas_copia, material_didatico_copia, subprefeituras_copia]\n",
    "\n",
    "# trata cada df\n",
    "for df in dfs:\n",
    "    renomear_colunas(df)\n",
    "    display(df.head(5))"
   ]
  },
  {
   "cell_type": "markdown",
   "metadata": {},
   "source": [
    "#### 4.2) Tratamento geral (não exposto no arquivo .md)"
   ]
  },
  {
   "cell_type": "markdown",
   "metadata": {},
   "source": [
    "1) Remove valores duplicados\n",
    "2) Substitui valores nulos"
   ]
  },
  {
   "cell_type": "code",
   "execution_count": null,
   "metadata": {},
   "outputs": [],
   "source": [
    "# lista dfs\n",
    "dfs = [escolas_copia, material_didatico_copia, subprefeituras_copia]\n",
    "\n",
    "# trata cada df\n",
    "for df in dfs:\n",
    "    # remove duplicados\n",
    "    df.drop_duplicates(inplace=True)\n",
    "    if 'id' in df.columns:\n",
    "        df.drop_duplicates(subset='id', keep='first', inplace=True)\n",
    "    \n",
    "    # substitui valores nulos do campos numéricos\n",
    "    for col in df.columns:\n",
    "        if df[col].dtypes == 'int' or df[col].dtypes == 'float':\n",
    "            df[col] = df[col].fillna(0)"
   ]
  },
  {
   "cell_type": "markdown",
   "metadata": {},
   "source": [
    "### 4.3) Tratamento para o DF material didático\n"
   ]
  },
  {
   "cell_type": "code",
   "execution_count": null,
   "metadata": {},
   "outputs": [],
   "source": [
    "material_didatico_copia.info()"
   ]
  },
  {
   "cell_type": "markdown",
   "metadata": {},
   "source": [
    "#### O que deve ser feito:\n",
    "\n",
    "1. Converter tipo da coluna quantidade de objeto para inteiro\n",
    "2. Substituir qualquer valor que não seja numérico por um número na coluna quantidade"
   ]
  },
  {
   "cell_type": "markdown",
   "metadata": {},
   "source": [
    "#### Verifica valores diferentes de números"
   ]
  },
  {
   "cell_type": "code",
   "execution_count": null,
   "metadata": {},
   "outputs": [],
   "source": [
    "for i, row in material_didatico_copia.iterrows():\n",
    "    qnt = row['quantidade']\n",
    "    if not qnt.isdigit():\n",
    "        print(qnt)"
   ]
  },
  {
   "cell_type": "markdown",
   "metadata": {},
   "source": [
    "#### Converte todos os valores da coluna para int"
   ]
  },
  {
   "cell_type": "code",
   "execution_count": null,
   "metadata": {},
   "outputs": [],
   "source": [
    "material_didatico_copia['quantidade'] = material_didatico_copia['quantidade'].apply(lambda x: int(x) if x.isdigit() else 0)"
   ]
  },
  {
   "cell_type": "markdown",
   "metadata": {},
   "source": [
    "Filtra dataframe com quantidade de material diferente de zero"
   ]
  },
  {
   "cell_type": "code",
   "execution_count": null,
   "metadata": {},
   "outputs": [],
   "source": [
    "material_didatico_copia = material_didatico_copia[material_didatico_copia['quantidade'] != 0]"
   ]
  },
  {
   "cell_type": "markdown",
   "metadata": {},
   "source": [
    "#### Verifica existência de valores nulos, duplicados e existência de valores iguais a 0"
   ]
  },
  {
   "cell_type": "code",
   "execution_count": null,
   "metadata": {},
   "outputs": [],
   "source": [
    "print(\"Quantidade de valores nulos:\", material_didatico_copia.isna().sum().tolist()[0])\n",
    "print(\"Quantidade de valores duplicados:\", material_didatico_copia.duplicated().sum())\n",
    "print(\"Quantidade de valores iguais a 0 (coluna quantidade):\", len(material_didatico_copia[material_didatico_copia['quantidade'] == 0]))"
   ]
  },
  {
   "cell_type": "markdown",
   "metadata": {},
   "source": [
    "### 4.3) Tratamento para o DF subprefeituras"
   ]
  },
  {
   "cell_type": "markdown",
   "metadata": {},
   "source": [
    "#### Verifica existência de valores nulos e duplicados"
   ]
  },
  {
   "cell_type": "code",
   "execution_count": null,
   "metadata": {},
   "outputs": [],
   "source": [
    "print(\"Quantidade de valores nulos:\", subprefeituras_copia.isna().sum().tolist()[0])\n",
    "print(\"Quantidade de valores duplicados:\", subprefeituras_copia.duplicated().sum())"
   ]
  },
  {
   "cell_type": "markdown",
   "metadata": {},
   "source": [
    "### 4.4) Tratamento para o DF escola"
   ]
  },
  {
   "cell_type": "code",
   "execution_count": null,
   "metadata": {},
   "outputs": [],
   "source": [
    "escolas_copia.info()"
   ]
  },
  {
   "cell_type": "markdown",
   "metadata": {},
   "source": [
    "#### O que deve ser feito:\n",
    "\n",
    "1. Converter tipo das colunas lat e lon de objeto para float\n",
    "2. Criar campos logradouro e numero a partir do campo endereco\n",
    "3. Criar campo tipo escola a partir do campo que contém nome das escolas (escolas_postos)\n",
    "4. Merge entre os DFs (escola, material didático e subprefeituras)\n",
    "5. Escrever arquivos csv"
   ]
  },
  {
   "cell_type": "markdown",
   "metadata": {},
   "source": [
    "#### Converter tipo das colunas lat e lon de objeto para float"
   ]
  },
  {
   "cell_type": "markdown",
   "metadata": {},
   "source": [
    "1) Substitui vírgula por ponto para validar coordenadas (requisito para analisar números float)"
   ]
  },
  {
   "cell_type": "code",
   "execution_count": null,
   "metadata": {},
   "outputs": [],
   "source": [
    "# converte vŕgula em ponto nos campos lat e lon\n",
    "escolas_copia[['lat', 'lon']] = escolas_copia[['lat', 'lon']].applymap(lambda x: x.replace(\",\", \".\"))"
   ]
  },
  {
   "cell_type": "markdown",
   "metadata": {},
   "source": [
    "2) Valida coordenadas lat e lon"
   ]
  },
  {
   "cell_type": "code",
   "execution_count": null,
   "metadata": {},
   "outputs": [],
   "source": [
    "for i, linha in escolas_copia.iterrows():\n",
    "    lat = linha['lat']\n",
    "    lon = linha['lon']\n",
    "    \n",
    "    if not -90 <= float(lat) <= 90:\n",
    "        if ',' not in str(lat):\n",
    "            lat.insert(2, ',')\n",
    "        else:\n",
    "            print(\"id:\", linha['id'])\n",
    "            print(\"lat:\", lat)\n",
    "    if not -180 <= float(lon) <= 180:\n",
    "        if ',' not in str(lon):\n",
    "            lon.insert(2, ',')\n",
    "        else:\n",
    "            print(\"id:\", linha['id'])\n",
    "            print(\"lon:\", lon)\n"
   ]
  },
  {
   "cell_type": "markdown",
   "metadata": {},
   "source": [
    "3) Normaliza coluna lat com 5 casas decimais"
   ]
  },
  {
   "cell_type": "code",
   "execution_count": null,
   "metadata": {},
   "outputs": [],
   "source": [
    "for col in ['lat', 'lon']:\n",
    "    escolas_copia[col] = escolas_copia[col].astype(float).round(5)"
   ]
  },
  {
   "cell_type": "markdown",
   "metadata": {},
   "source": [
    "#### Substitui abreviações de endereço"
   ]
  },
  {
   "cell_type": "code",
   "execution_count": null,
   "metadata": {},
   "outputs": [],
   "source": [
    "# verifica possíveis abreviações\n",
    "abreviacoes = set()\n",
    "\n",
    "for i, linha_escola in escolas_copia.iterrows():\n",
    "    lista_palavra_endereco = linha_escola['endereco'].split()\n",
    "    for palavra in lista_palavra_endereco:\n",
    "        if len(palavra) <= 4 and not palavra.isdigit():\n",
    "            abreviacoes.update([palavra])\n",
    "\n",
    "# verifica possíveis abreviações para logradouros\n",
    "filtro_abreviacoes = [abreviacao for abreviacao in abreviacoes if abreviacao.startswith('R') or abreviacao.startswith('AV') or abreviacao.startswith('PCA')]\n",
    "filtro_abreviacoes"
   ]
  },
  {
   "cell_type": "code",
   "execution_count": null,
   "metadata": {},
   "outputs": [],
   "source": [
    "escolas_copia['endereco'] = escolas_copia['endereco'].str.replace('R. ', 'RUA ').replace('PCA. ', 'PRACA ', regex=True).replace('AV. ', 'AVENIDA ', regex=True).replace('AV ', 'AVENIDA ', regex=True)"
   ]
  },
  {
   "cell_type": "markdown",
   "metadata": {},
   "source": [
    "Valida normalização de abreviações do campo endereco"
   ]
  },
  {
   "cell_type": "code",
   "execution_count": null,
   "metadata": {},
   "outputs": [],
   "source": [
    "for i, linha_escola in escolas_copia.iterrows():\n",
    "    if linha_escola['endereco'].startswith('R. ')  or \\\n",
    "       linha_escola['endereco'].startswith('AV. ') or \\\n",
    "       linha_escola['endereco'].startswith('AV ') or \\\n",
    "       linha_escola['endereco'].startswith('PCA. '):\n",
    "        print(linha_escola['endereco'])"
   ]
  },
  {
   "cell_type": "markdown",
   "metadata": {},
   "source": [
    "#### Normaliza os endereços"
   ]
  },
  {
   "cell_type": "markdown",
   "metadata": {},
   "source": [
    "1) Normaliza endereços sem números"
   ]
  },
  {
   "cell_type": "code",
   "execution_count": null,
   "metadata": {},
   "outputs": [],
   "source": [
    "escolas_copia['endereco'] = escolas_copia['endereco'].apply(lambda x: x.replace(\"/\", \"\").replace(\".\", \"\").strip())"
   ]
  },
  {
   "cell_type": "code",
   "execution_count": null,
   "metadata": {},
   "outputs": [],
   "source": [
    "# checa os valores de endereços sem números\n",
    "enderecos_sem_numeros = set()\n",
    "\n",
    "# separa enderecos em lista de listas\n",
    "enderecos = [linha_escola['endereco'].split() for i, linha_escola in escolas_copia.iterrows()]\n",
    "\n",
    "# verifica itens da lista que possuem valores SN (sem números)\n",
    "for lista in enderecos:\n",
    "    for item in lista:\n",
    "        if item.startswith(\"SN\") and item != \"SN\":\n",
    "            enderecos_sem_numeros.update([item])\n",
    "\n",
    "print(enderecos_sem_numeros)"
   ]
  },
  {
   "cell_type": "code",
   "execution_count": null,
   "metadata": {},
   "outputs": [],
   "source": [
    "escolas_copia['endereco'] = escolas_copia['endereco'].str.replace('SNO', 'SN', regex=True).replace('SNDEG', 'SN', regex=True)"
   ]
  },
  {
   "cell_type": "markdown",
   "metadata": {},
   "source": [
    "2) Normaliza campos com endereços incorretos"
   ]
  },
  {
   "cell_type": "code",
   "execution_count": null,
   "metadata": {},
   "outputs": [],
   "source": [
    "escolas_copia[['id', 'endereco']].loc[escolas_copia['endereco'].str.count('RUA') > 1]"
   ]
  },
  {
   "cell_type": "code",
   "execution_count": null,
   "metadata": {},
   "outputs": [],
   "source": [
    "escolas_copia[['id', 'endereco']].loc[escolas_copia['endereco'].str.count('AVENIDA') > 1]\n"
   ]
  },
  {
   "cell_type": "code",
   "execution_count": null,
   "metadata": {},
   "outputs": [],
   "source": [
    "escolas_copia[['id', 'endereco']].loc[escolas_copia['endereco'].str.contains('AVENIDA') & escolas_copia['endereco'].str.contains('RUA')]"
   ]
  },
  {
   "cell_type": "code",
   "execution_count": null,
   "metadata": {},
   "outputs": [],
   "source": [
    "escolas_copia['endereco'][escolas_copia['id'] == 144] = 'RUA LUISA MARILAC, 20'"
   ]
  },
  {
   "cell_type": "code",
   "execution_count": null,
   "metadata": {},
   "outputs": [],
   "source": [
    "escolas_copia['endereco'][escolas_copia['id'] == 260] = 'RUA DA VITORIA'"
   ]
  },
  {
   "cell_type": "markdown",
   "metadata": {},
   "source": [
    "#### Separa logradouro do número do endereço"
   ]
  },
  {
   "cell_type": "markdown",
   "metadata": {},
   "source": [
    "1) Normaliza separador do logradouro e número como vírgula"
   ]
  },
  {
   "cell_type": "code",
   "execution_count": null,
   "metadata": {},
   "outputs": [],
   "source": [
    "# Função para normalizar o endereço\n",
    "def normaliza_endereco(endereco):\n",
    "    # Verifica se o endereço contém um número\n",
    "    if any(caracter.isdigit() and ' SN' not in endereco for caracter in endereco):\n",
    "        \n",
    "        # verifica indice da string que possui o número\n",
    "        for caracter in endereco:\n",
    "            if caracter.isdigit():\n",
    "                indice = endereco.index(caracter)\n",
    "                \n",
    "                # verifica se tem vírgula\n",
    "                if ',' not in endereco:\n",
    "                    endereco = endereco[:indice-1] + ', ' + endereco[indice:]\n",
    "    \n",
    "    # verifica se contém SN\n",
    "    elif ' SN' in endereco and not ',' in endereco:\n",
    "        indice = endereco.index(' SN')\n",
    "        endereco = endereco[:indice] + ', ' + endereco[indice+1:]\n",
    "    \n",
    "    return endereco\n"
   ]
  },
  {
   "cell_type": "code",
   "execution_count": null,
   "metadata": {},
   "outputs": [],
   "source": [
    "# Aplica a função ao DataFrame\n",
    "escolas_copia['endereco'] = escolas_copia['endereco'].apply(normaliza_endereco)"
   ]
  },
  {
   "cell_type": "markdown",
   "metadata": {},
   "source": [
    "2) Cria campos logradouro e numero no DF"
   ]
  },
  {
   "cell_type": "code",
   "execution_count": null,
   "metadata": {},
   "outputs": [],
   "source": [
    "escolas_copia[['logradouro', 'numero']] = escolas_copia['endereco'].str.split(',', expand=True)"
   ]
  },
  {
   "cell_type": "markdown",
   "metadata": {},
   "source": [
    "3) Substitui números não informados no campo endereco"
   ]
  },
  {
   "cell_type": "code",
   "execution_count": null,
   "metadata": {},
   "outputs": [],
   "source": [
    "escolas_copia['numero'].fillna('Não informado', inplace=True)"
   ]
  },
  {
   "cell_type": "markdown",
   "metadata": {},
   "source": [
    "### Adicionar campo tipo de cada escola"
   ]
  },
  {
   "cell_type": "markdown",
   "metadata": {},
   "source": [
    "1) Lista tipos possíveis de escola"
   ]
  },
  {
   "cell_type": "code",
   "execution_count": null,
   "metadata": {},
   "outputs": [],
   "source": [
    "# listar tipos das escolas\n",
    "inicio = list()\n",
    "escolas_copia['escolas_postos'].apply(lambda x: inicio.append((x.split())[0]))\n",
    "set(inicio)"
   ]
  },
  {
   "cell_type": "markdown",
   "metadata": {},
   "source": [
    "2) Cria campo tipo no DF"
   ]
  },
  {
   "cell_type": "code",
   "execution_count": null,
   "metadata": {},
   "outputs": [],
   "source": [
    "def mapear_tipo_escola(nome_da_escola: str):\n",
    "    if nome_da_escola.startswith((\"CIEP\", \"CENTRO\")):\n",
    "        return \"CIEP\"\n",
    "    elif nome_da_escola.startswith(\"COLEGIO\"):\n",
    "        return \"COLEGIO\"\n",
    "    elif nome_da_escola.replace(\".\", \"\").startswith((\"ESCOLA\", \"EM\")):\n",
    "        return \"EM\"\n",
    "    else:\n",
    "        return None # Caso padrão, ou seja, nenhum valor encontrado\n",
    "\n",
    "escolas_copia['tipo_escola'] = escolas_copia['escolas_postos'].apply(mapear_tipo_escola)"
   ]
  },
  {
   "cell_type": "markdown",
   "metadata": {},
   "source": [
    "### Cria DF com dados completos de cada escola"
   ]
  },
  {
   "cell_type": "code",
   "execution_count": null,
   "metadata": {},
   "outputs": [],
   "source": [
    "# aplica merge entre as tabelas\n",
    "escolas_merge_1 = escolas_copia.merge(material_didatico_copia, how='inner', on='id')"
   ]
  },
  {
   "cell_type": "code",
   "execution_count": null,
   "metadata": {},
   "outputs": [],
   "source": [
    "escolas_merge_2 = escolas_merge_1.merge(subprefeituras_copia, how='inner', left_on='bairro', right_on='nome')"
   ]
  },
  {
   "cell_type": "markdown",
   "metadata": {},
   "source": [
    "### Normaliza coluna id (ex.: '024')"
   ]
  },
  {
   "cell_type": "code",
   "execution_count": null,
   "metadata": {},
   "outputs": [],
   "source": [
    "escolas_merge_2['id'] = escolas_merge_2['id'].apply(lambda x: str(x).zfill(3))"
   ]
  },
  {
   "cell_type": "markdown",
   "metadata": {},
   "source": [
    "### Ordena as colunas do DF"
   ]
  },
  {
   "cell_type": "code",
   "execution_count": null,
   "metadata": {},
   "outputs": [],
   "source": [
    "# cria df final\n",
    "colunas=['id_da_escola', 'nome_da_escola', 'tipo_da_escola', 'logradouro', 'numero', 'bairro', 'subprefeitura', 'latitude', 'longitude', 'quantidade_de_material']\n",
    "df_final=pd.DataFrame(columns=colunas)"
   ]
  },
  {
   "cell_type": "code",
   "execution_count": null,
   "metadata": {},
   "outputs": [],
   "source": [
    "# atribui valores às colunas do df final\n",
    "df_final['id_da_escola']=escolas_merge_2['id']\n",
    "df_final['nome_da_escola']=escolas_merge_2['escolas_postos']\n",
    "df_final['tipo_da_escola']=escolas_merge_2['tipo_escola']\n",
    "df_final['logradouro']=escolas_merge_2['logradouro']\n",
    "df_final['numero']=escolas_merge_2['numero']\n",
    "df_final['bairro']=escolas_merge_2['bairro']\n",
    "df_final['subprefeitura']=escolas_merge_2['subprefeitura']\n",
    "df_final['latitude']=escolas_merge_2['lat']\n",
    "df_final['longitude']=escolas_merge_2['lon']\n",
    "df_final['quantidade_de_material']=escolas_merge_2['quantidade']"
   ]
  },
  {
   "cell_type": "markdown",
   "metadata": {},
   "source": [
    "### Ordenando as linhas utilizando o algoritmo do vizinho mais próximo"
   ]
  },
  {
   "cell_type": "code",
   "execution_count": null,
   "metadata": {},
   "outputs": [],
   "source": [
    "from scipy.spatial.distance import cdist\n",
    "\n",
    "# Crie uma matriz de distâncias entre todas as escolas\n",
    "coordenadas = df_final[['longitude', 'latitude']].values\n",
    "matriz_distancias = cdist(coordenadas, coordenadas, 'euclidean')\n",
    "\n",
    "# Função para encontrar o caminho usando o algoritmo do vizinho mais próximo\n",
    "def vizinho_mais_proximo(matriz_distancias):\n",
    "    qtd_escolas = len(matriz_distancias)\n",
    "    nao_visitadas = set(range(qtd_escolas))\n",
    "    escola_atual = 0  # Comece da primeira escola\n",
    "    caminho = [escola_atual]\n",
    "    nao_visitadas.remove(escola_atual)\n",
    "\n",
    "    while nao_visitadas:\n",
    "        escola_mais_proxima = min(nao_visitadas, key=lambda x: matriz_distancias[escola_atual][x])\n",
    "        caminho.append(escola_mais_proxima)\n",
    "        escola_atual = escola_mais_proxima\n",
    "        nao_visitadas.remove(escola_atual)\n",
    "\n",
    "    return caminho\n",
    "\n",
    "# Encontre o caminho usando o algoritmo do vizinho mais próximo\n",
    "caminho_otimo = vizinho_mais_proximo(matriz_distancias)\n",
    "\n",
    "# Reordene o DataFrame com base no caminho ótimo\n",
    "df_final = df_final.iloc[caminho_otimo]\n",
    "\n",
    "# Redefina os índices se necessário\n",
    "df_final.reset_index(drop=True, inplace=True)\n",
    "\n",
    "# df_final agora está reordenado com base em uma solução aproximada\n"
   ]
  },
  {
   "cell_type": "markdown",
   "metadata": {},
   "source": [
    "### Escreve arquivo csv"
   ]
  },
  {
   "cell_type": "code",
   "execution_count": null,
   "metadata": {},
   "outputs": [],
   "source": [
    "# escreve dataframe\n",
    "df_final.to_csv(\"dados_tratados/dados_completos_escolas.csv\", index=False)"
   ]
  },
  {
   "cell_type": "markdown",
   "metadata": {},
   "source": [
    "### Contabiliza quantidade de material escolar a ser entregue por subprefeitura"
   ]
  },
  {
   "cell_type": "code",
   "execution_count": null,
   "metadata": {},
   "outputs": [],
   "source": [
    "qnt_material_subpref = df_final[['subprefeitura', 'quantidade_de_material']].groupby(['subprefeitura']).sum().reset_index()"
   ]
  },
  {
   "cell_type": "markdown",
   "metadata": {},
   "source": [
    "### Escreve arquivo csv"
   ]
  },
  {
   "cell_type": "code",
   "execution_count": null,
   "metadata": {},
   "outputs": [],
   "source": [
    "qnt_material_subpref.to_csv(\"dados_tratados/qnt_material_subprefeitura.csv\", index=False)"
   ]
  }
 ],
 "metadata": {
  "kernelspec": {
   "display_name": "Python 3",
   "language": "python",
   "name": "python3"
  },
  "language_info": {
   "codemirror_mode": {
    "name": "ipython",
    "version": 3
   },
   "file_extension": ".py",
   "mimetype": "text/x-python",
   "name": "python",
   "nbconvert_exporter": "python",
   "pygments_lexer": "ipython3",
   "version": "3.11.3"
  },
  "orig_nbformat": 4
 },
 "nbformat": 4,
 "nbformat_minor": 2
}
